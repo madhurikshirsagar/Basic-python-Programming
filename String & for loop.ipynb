{
 "cells": [
  {
   "cell_type": "markdown",
   "id": "76a28f98",
   "metadata": {},
   "source": [
    "# String Operation \n"
   ]
  },
  {
   "cell_type": "code",
   "execution_count": 6,
   "id": "25a8c758",
   "metadata": {},
   "outputs": [
    {
     "name": "stdout",
     "output_type": "stream",
     "text": [
      "This is Apple\n"
     ]
    }
   ],
   "source": [
    "a=\"This is Apple\"\n",
    "print(a)"
   ]
  },
  {
   "cell_type": "code",
   "execution_count": 7,
   "id": "8df4542a",
   "metadata": {},
   "outputs": [
    {
     "name": "stdout",
     "output_type": "stream",
     "text": [
      "T\n"
     ]
    }
   ],
   "source": [
    "# a=\"This is Apple\"\n",
    "print(a[0])"
   ]
  },
  {
   "cell_type": "code",
   "execution_count": 8,
   "id": "9d9439d6",
   "metadata": {},
   "outputs": [
    {
     "name": "stdout",
     "output_type": "stream",
     "text": [
      "This i\n"
     ]
    }
   ],
   "source": [
    "a=\"This is Apple\"\n",
    "print(a[:6])"
   ]
  },
  {
   "cell_type": "code",
   "execution_count": 9,
   "id": "dd1891a2",
   "metadata": {},
   "outputs": [
    {
     "name": "stdout",
     "output_type": "stream",
     "text": [
      "ppl\n"
     ]
    }
   ],
   "source": [
    "a=\"This is Apple\"\n",
    "print(a[-4:-1])"
   ]
  },
  {
   "cell_type": "code",
   "execution_count": 10,
   "id": "2d87ae3d",
   "metadata": {},
   "outputs": [
    {
     "name": "stdout",
     "output_type": "stream",
     "text": [
      "This \n"
     ]
    }
   ],
   "source": [
    "a=\"This is Apple\"\n",
    "print(a[:5])"
   ]
  },
  {
   "cell_type": "code",
   "execution_count": 11,
   "id": "1330a30c",
   "metadata": {},
   "outputs": [
    {
     "data": {
      "text/plain": [
       "'This '"
      ]
     },
     "execution_count": 11,
     "metadata": {},
     "output_type": "execute_result"
    }
   ],
   "source": [
    "a=\"This is Apple\"\n",
    "ab=a[:5]\n",
    "ab"
   ]
  },
  {
   "cell_type": "code",
   "execution_count": 12,
   "id": "36d529d2",
   "metadata": {},
   "outputs": [
    {
     "name": "stdout",
     "output_type": "stream",
     "text": [
      "A\n"
     ]
    }
   ],
   "source": [
    "a=\"This is Apple\"\n",
    "print(a[8:9])"
   ]
  },
  {
   "cell_type": "code",
   "execution_count": 13,
   "id": "37edd81a",
   "metadata": {},
   "outputs": [
    {
     "name": "stdout",
     "output_type": "stream",
     "text": [
      "Appl\n"
     ]
    }
   ],
   "source": [
    "a=\"This is Apple\"\n",
    "print(a[-5:-1])"
   ]
  },
  {
   "cell_type": "code",
   "execution_count": 33,
   "id": "d5a9743e",
   "metadata": {},
   "outputs": [
    {
     "name": "stdout",
     "output_type": "stream",
     "text": [
      "My name is Madhuri\n"
     ]
    }
   ],
   "source": [
    "s=\"My name is Madhuri\"\n",
    "print(s)"
   ]
  },
  {
   "cell_type": "code",
   "execution_count": 37,
   "id": "4ae71e72",
   "metadata": {},
   "outputs": [
    {
     "data": {
      "text/plain": [
       "'My name is Madhur'"
      ]
     },
     "execution_count": 37,
     "metadata": {},
     "output_type": "execute_result"
    }
   ],
   "source": [
    "s[0:-1]"
   ]
  },
  {
   "cell_type": "code",
   "execution_count": 38,
   "id": "de0ab070",
   "metadata": {},
   "outputs": [
    {
     "data": {
      "text/plain": [
       "'m'"
      ]
     },
     "execution_count": 38,
     "metadata": {},
     "output_type": "execute_result"
    }
   ],
   "source": [
    "s[5]"
   ]
  },
  {
   "cell_type": "code",
   "execution_count": 39,
   "id": "6540d516",
   "metadata": {},
   "outputs": [
    {
     "data": {
      "text/plain": [
       "'My '"
      ]
     },
     "execution_count": 39,
     "metadata": {},
     "output_type": "execute_result"
    }
   ],
   "source": [
    "s[0:3]"
   ]
  },
  {
   "cell_type": "markdown",
   "id": "7a78ef82",
   "metadata": {},
   "source": [
    "# For Loop Operation"
   ]
  },
  {
   "cell_type": "code",
   "execution_count": 14,
   "id": "3299f695",
   "metadata": {},
   "outputs": [
    {
     "name": "stdout",
     "output_type": "stream",
     "text": [
      "madhu 0\n",
      "madhu 1\n",
      "madhu 2\n",
      "madhu 3\n",
      "madhu 4\n"
     ]
    }
   ],
   "source": [
    "for x in range(5):\n",
    "    print(\"madhu\",x)    "
   ]
  },
  {
   "cell_type": "code",
   "execution_count": 15,
   "id": "ad7d503d",
   "metadata": {},
   "outputs": [
    {
     "name": "stdout",
     "output_type": "stream",
     "text": [
      "Mahi G\n",
      "Mahi a\n",
      "Mahi m\n",
      "Mahi e\n"
     ]
    }
   ],
   "source": [
    "for x in 'Game':\n",
    "    print(\"Mahi\",x)"
   ]
  },
  {
   "cell_type": "code",
   "execution_count": 16,
   "id": "1d92c4ab",
   "metadata": {},
   "outputs": [
    {
     "name": "stdout",
     "output_type": "stream",
     "text": [
      "madhu A\n",
      "madhu s\n",
      "madhu h\n",
      "madhu u\n"
     ]
    }
   ],
   "source": [
    "for x in \"Ashu\":\n",
    "    print(\"madhu\",x)"
   ]
  },
  {
   "cell_type": "code",
   "execution_count": 17,
   "id": "6840f85d",
   "metadata": {},
   "outputs": [
    {
     "name": "stdout",
     "output_type": "stream",
     "text": [
      "data science 0\n",
      "data science 1\n",
      "data science 2\n",
      "data science 3\n",
      "data science 4\n"
     ]
    }
   ],
   "source": [
    "for x in range(5):\n",
    "    print(\"data science\",x)"
   ]
  },
  {
   "cell_type": "code",
   "execution_count": 20,
   "id": "3afe5c48",
   "metadata": {},
   "outputs": [
    {
     "name": "stdout",
     "output_type": "stream",
     "text": [
      "Enter the value....5\n",
      "Mahendr 0\n",
      "Mahendr 1\n",
      "Mahendr 2\n",
      "Mahendr 3\n",
      "Mahendr 4\n"
     ]
    }
   ],
   "source": [
    "a=int(input(\"Enter the value....\"))\n",
    "for x in range(a):\n",
    "    print(\"Mahendr\",x)\n"
   ]
  },
  {
   "cell_type": "code",
   "execution_count": 21,
   "id": "3385c71c",
   "metadata": {},
   "outputs": [
    {
     "name": "stdout",
     "output_type": "stream",
     "text": [
      "Enter the string.....7\n",
      "Because 7\n"
     ]
    }
   ],
   "source": [
    "c=input(\"Enter the string.....\")\n",
    "for x in c:\n",
    "    print(\"Because\",x)\n",
    "    "
   ]
  },
  {
   "cell_type": "code",
   "execution_count": 22,
   "id": "b17cb8f7",
   "metadata": {},
   "outputs": [
    {
     "name": "stdout",
     "output_type": "stream",
     "text": [
      "Enter the string....4\n",
      "Enter the string.....5\n",
      "Enter the string.....6\n",
      "11\n",
      "Enter the string.....76\n",
      "Enter the string.....79\n",
      "155\n",
      "Enter the string.....90\n",
      "Enter the string.....43\n",
      "133\n",
      "Enter the string.....23\n",
      "Enter the string.....67\n",
      "90\n"
     ]
    }
   ],
   "source": [
    "a=int(input(\"Enter the string....\"))\n",
    "for x in range(a):\n",
    "    a=int(input(\"Enter the string.....\"))\n",
    "    b=int(input(\"Enter the string.....\"))\n",
    "    print(a+b)"
   ]
  },
  {
   "cell_type": "code",
   "execution_count": 45,
   "id": "abee1f46",
   "metadata": {},
   "outputs": [
    {
     "name": "stdout",
     "output_type": "stream",
     "text": [
      "my fav food: Vadapav\n",
      "my fav food: Vadapav\n",
      "my fav food: Vadapav\n",
      "my fav food: Vadapav\n",
      "my fav food: Vadapav\n",
      "my fav food: Vadapav\n",
      "my fav food: Vadapav\n",
      "my fav food: Vadapav\n",
      "my fav food: Vadapav\n",
      "my fav food: Vadapav\n",
      "my fav food: Vadapav\n",
      "my fav food: Vadapav\n",
      "my fav food: Vadapav\n",
      "my fav food: Vadapav\n",
      "my fav food: Vadapav\n",
      "my fav food: Vadapav\n",
      "my fav food: Vadapav\n",
      "my fav food: Vadapav\n",
      "my fav food: Vadapav\n",
      "my fav food: Vadapav\n"
     ]
    }
   ],
   "source": [
    "a=[\"piuu\",\"adarsh\",\"komal\",\"Rahul\"]\n",
    "for x in a:\n",
    "    for y in x:\n",
    "        print(\"my fav food: Vadapav\")"
   ]
  },
  {
   "cell_type": "code",
   "execution_count": 49,
   "id": "48627739",
   "metadata": {},
   "outputs": [
    {
     "name": "stdout",
     "output_type": "stream",
     "text": [
      "THIS IS KUNAL\n",
      "my fav food: Vadapav\n",
      "my fav food: Vadapav\n",
      "my fav food: Vadapav\n",
      "my fav food: Vadapav\n",
      "THIS IS KUNAL\n",
      "my fav food: Vadapav\n",
      "my fav food: Vadapav\n",
      "my fav food: Vadapav\n",
      "my fav food: Vadapav\n",
      "my fav food: Vadapav\n",
      "my fav food: Vadapav\n",
      "THIS IS KUNAL\n",
      "my fav food: Vadapav\n",
      "my fav food: Vadapav\n",
      "my fav food: Vadapav\n",
      "my fav food: Vadapav\n",
      "my fav food: Vadapav\n",
      "THIS IS KUNAL\n",
      "my fav food: Vadapav\n",
      "my fav food: Vadapav\n",
      "my fav food: Vadapav\n",
      "my fav food: Vadapav\n",
      "my fav food: Vadapav\n"
     ]
    }
   ],
   "source": [
    "a=[\"piuu\",\"adarsh\",\"komal\",\"Rahul\"]\n",
    "for x in a:\n",
    "    print(\"THIS IS KUNAL\")\n",
    "    for y in x:\n",
    "        print(\"my fav food: Vadapav\")"
   ]
  },
  {
   "cell_type": "markdown",
   "id": "d881a925",
   "metadata": {},
   "source": [
    "# If else Operations"
   ]
  },
  {
   "cell_type": "code",
   "execution_count": 25,
   "id": "7512a40f",
   "metadata": {},
   "outputs": [
    {
     "name": "stdout",
     "output_type": "stream",
     "text": [
      "It is true\n"
     ]
    }
   ],
   "source": [
    "a=76\n",
    "b=89\n",
    "if a<b:\n",
    "    print(\"It is true\")\n",
    "else:\n",
    "    print(\"It is false \")"
   ]
  },
  {
   "cell_type": "code",
   "execution_count": 26,
   "id": "8b3e157d",
   "metadata": {},
   "outputs": [
    {
     "name": "stdout",
     "output_type": "stream",
     "text": [
      "it is even\n"
     ]
    }
   ],
   "source": [
    "a=8\n",
    "if a%2==0:\n",
    "    print(\"it is even\")\n",
    "else:\n",
    "    print(\"It is odd\")"
   ]
  },
  {
   "cell_type": "code",
   "execution_count": 31,
   "id": "41f099da",
   "metadata": {},
   "outputs": [
    {
     "name": "stdout",
     "output_type": "stream",
     "text": [
      "It is TRUE\n",
      "3\n",
      "It is TRUE\n",
      "5\n",
      "It is TRUE\n",
      "7\n",
      "It is TRUE\n",
      "9\n",
      "It is FALSE\n",
      "0\n"
     ]
    }
   ],
   "source": [
    "a=[3,5,7,9,0]\n",
    "for x in a:\n",
    "    if x==0:\n",
    "        print(\"It is FALSE\")\n",
    "    else:\n",
    "        print(\"It is TRUE\")\n",
    "    print(x)"
   ]
  }
 ],
 "metadata": {
  "kernelspec": {
   "display_name": "Python 3",
   "language": "python",
   "name": "python3"
  },
  "language_info": {
   "codemirror_mode": {
    "name": "ipython",
    "version": 3
   },
   "file_extension": ".py",
   "mimetype": "text/x-python",
   "name": "python",
   "nbconvert_exporter": "python",
   "pygments_lexer": "ipython3",
   "version": "3.8.8"
  }
 },
 "nbformat": 4,
 "nbformat_minor": 5
}
