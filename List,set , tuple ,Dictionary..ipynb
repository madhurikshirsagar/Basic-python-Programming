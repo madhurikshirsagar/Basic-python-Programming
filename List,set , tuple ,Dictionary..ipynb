{
 "cells": [
  {
   "cell_type": "markdown",
   "id": "37352eb7",
   "metadata": {},
   "source": [
    "# List "
   ]
  },
  {
   "cell_type": "code",
   "execution_count": 30,
   "id": "05265620",
   "metadata": {},
   "outputs": [
    {
     "data": {
      "text/plain": [
       "list"
      ]
     },
     "execution_count": 30,
     "metadata": {},
     "output_type": "execute_result"
    }
   ],
   "source": [
    "a=[3,7,9,10,8,11,14]\n",
    "type(a)"
   ]
  },
  {
   "cell_type": "code",
   "execution_count": 3,
   "id": "b8efa3e0",
   "metadata": {},
   "outputs": [
    {
     "data": {
      "text/plain": [
       "7"
      ]
     },
     "execution_count": 3,
     "metadata": {},
     "output_type": "execute_result"
    }
   ],
   "source": [
    "len(a)"
   ]
  },
  {
   "cell_type": "code",
   "execution_count": 5,
   "id": "9df3257e",
   "metadata": {},
   "outputs": [],
   "source": [
    "a.append(67)"
   ]
  },
  {
   "cell_type": "code",
   "execution_count": 6,
   "id": "ab4602bc",
   "metadata": {},
   "outputs": [
    {
     "data": {
      "text/plain": [
       "[3, 7, 9, 10, 8, 11, 14, 67]"
      ]
     },
     "execution_count": 6,
     "metadata": {},
     "output_type": "execute_result"
    }
   ],
   "source": [
    "a"
   ]
  },
  {
   "cell_type": "code",
   "execution_count": 8,
   "id": "6d4a0db3",
   "metadata": {},
   "outputs": [],
   "source": [
    "a.insert(3,90)"
   ]
  },
  {
   "cell_type": "code",
   "execution_count": 9,
   "id": "74c8f4eb",
   "metadata": {},
   "outputs": [
    {
     "data": {
      "text/plain": [
       "[3, 7, 9, 90, 10, 8, 11, 14, 67]"
      ]
     },
     "execution_count": 9,
     "metadata": {},
     "output_type": "execute_result"
    }
   ],
   "source": [
    "a"
   ]
  },
  {
   "cell_type": "code",
   "execution_count": 10,
   "id": "0db19b5b",
   "metadata": {},
   "outputs": [],
   "source": [
    "a.remove(11)"
   ]
  },
  {
   "cell_type": "code",
   "execution_count": 11,
   "id": "59445bdf",
   "metadata": {},
   "outputs": [
    {
     "data": {
      "text/plain": [
       "[3, 7, 9, 90, 10, 8, 14, 67]"
      ]
     },
     "execution_count": 11,
     "metadata": {},
     "output_type": "execute_result"
    }
   ],
   "source": [
    "a"
   ]
  },
  {
   "cell_type": "code",
   "execution_count": 12,
   "id": "bcc498d8",
   "metadata": {},
   "outputs": [
    {
     "ename": "ValueError",
     "evalue": "list.remove(x): x not in list",
     "output_type": "error",
     "traceback": [
      "\u001b[1;31m---------------------------------------------------------------------------\u001b[0m",
      "\u001b[1;31mValueError\u001b[0m                                Traceback (most recent call last)",
      "\u001b[1;32m<ipython-input-12-ae1fd24e9d23>\u001b[0m in \u001b[0;36m<module>\u001b[1;34m\u001b[0m\n\u001b[1;32m----> 1\u001b[1;33m \u001b[0ma\u001b[0m\u001b[1;33m.\u001b[0m\u001b[0mremove\u001b[0m\u001b[1;33m(\u001b[0m\u001b[1;36m0\u001b[0m\u001b[1;33m)\u001b[0m\u001b[1;33m\u001b[0m\u001b[1;33m\u001b[0m\u001b[0m\n\u001b[0m",
      "\u001b[1;31mValueError\u001b[0m: list.remove(x): x not in list"
     ]
    }
   ],
   "source": [
    "a.remove(0)                 # Remove shows error"
   ]
  },
  {
   "cell_type": "code",
   "execution_count": 19,
   "id": "3a05c5f5",
   "metadata": {},
   "outputs": [
    {
     "data": {
      "text/plain": [
       "67"
      ]
     },
     "execution_count": 19,
     "metadata": {},
     "output_type": "execute_result"
    }
   ],
   "source": [
    "a.pop()"
   ]
  },
  {
   "cell_type": "code",
   "execution_count": 20,
   "id": "f4e288eb",
   "metadata": {},
   "outputs": [
    {
     "data": {
      "text/plain": [
       "[3, 7, 9, 90, 10, 8, 14]"
      ]
     },
     "execution_count": 20,
     "metadata": {},
     "output_type": "execute_result"
    }
   ],
   "source": [
    "a"
   ]
  },
  {
   "cell_type": "code",
   "execution_count": 21,
   "id": "81ac673b",
   "metadata": {},
   "outputs": [
    {
     "data": {
      "text/plain": [
       "90"
      ]
     },
     "execution_count": 21,
     "metadata": {},
     "output_type": "execute_result"
    }
   ],
   "source": [
    "a.pop(3)"
   ]
  },
  {
   "cell_type": "code",
   "execution_count": 22,
   "id": "eb781dd4",
   "metadata": {},
   "outputs": [
    {
     "data": {
      "text/plain": [
       "[3, 7, 9, 10, 8, 14]"
      ]
     },
     "execution_count": 22,
     "metadata": {},
     "output_type": "execute_result"
    }
   ],
   "source": [
    "a"
   ]
  },
  {
   "cell_type": "code",
   "execution_count": 24,
   "id": "18388a20",
   "metadata": {},
   "outputs": [],
   "source": [
    "a.sort()"
   ]
  },
  {
   "cell_type": "code",
   "execution_count": 25,
   "id": "1bf83589",
   "metadata": {},
   "outputs": [
    {
     "data": {
      "text/plain": [
       "[3, 7, 8, 9, 10, 14]"
      ]
     },
     "execution_count": 25,
     "metadata": {},
     "output_type": "execute_result"
    }
   ],
   "source": [
    "a"
   ]
  },
  {
   "cell_type": "code",
   "execution_count": 26,
   "id": "e84a7f64",
   "metadata": {},
   "outputs": [],
   "source": [
    "a.reverse()"
   ]
  },
  {
   "cell_type": "code",
   "execution_count": 27,
   "id": "ffe6dee4",
   "metadata": {},
   "outputs": [
    {
     "data": {
      "text/plain": [
       "[14, 10, 9, 8, 7, 3]"
      ]
     },
     "execution_count": 27,
     "metadata": {},
     "output_type": "execute_result"
    }
   ],
   "source": [
    "a"
   ]
  },
  {
   "cell_type": "code",
   "execution_count": 30,
   "id": "abdee9a2",
   "metadata": {},
   "outputs": [],
   "source": [
    "a.clear()"
   ]
  },
  {
   "cell_type": "code",
   "execution_count": 31,
   "id": "3f61829a",
   "metadata": {},
   "outputs": [
    {
     "data": {
      "text/plain": [
       "[]"
      ]
     },
     "execution_count": 31,
     "metadata": {},
     "output_type": "execute_result"
    }
   ],
   "source": [
    "a"
   ]
  },
  {
   "cell_type": "markdown",
   "id": "e30c9fe4",
   "metadata": {},
   "source": [
    "# Tuple Operations."
   ]
  },
  {
   "cell_type": "code",
   "execution_count": 2,
   "id": "6610d869",
   "metadata": {},
   "outputs": [
    {
     "data": {
      "text/plain": [
       "5"
      ]
     },
     "execution_count": 2,
     "metadata": {},
     "output_type": "execute_result"
    }
   ],
   "source": [
    "c=(5,8,9,37,90)\n",
    "len(c)"
   ]
  },
  {
   "cell_type": "code",
   "execution_count": 3,
   "id": "14ea2aed",
   "metadata": {},
   "outputs": [
    {
     "ename": "AttributeError",
     "evalue": "'tuple' object has no attribute 'append'",
     "output_type": "error",
     "traceback": [
      "\u001b[1;31m---------------------------------------------------------------------------\u001b[0m",
      "\u001b[1;31mAttributeError\u001b[0m                            Traceback (most recent call last)",
      "\u001b[1;32m<ipython-input-3-eb6a21dcdfc1>\u001b[0m in \u001b[0;36m<module>\u001b[1;34m\u001b[0m\n\u001b[1;32m----> 1\u001b[1;33m \u001b[0mc\u001b[0m\u001b[1;33m.\u001b[0m\u001b[0mappend\u001b[0m\u001b[1;33m(\u001b[0m\u001b[1;36m6\u001b[0m\u001b[1;33m)\u001b[0m\u001b[1;33m\u001b[0m\u001b[1;33m\u001b[0m\u001b[0m\n\u001b[0m",
      "\u001b[1;31mAttributeError\u001b[0m: 'tuple' object has no attribute 'append'"
     ]
    }
   ],
   "source": [
    "c.append(6)                 # Tuple is unchangeble so append gives error."
   ]
  },
  {
   "cell_type": "markdown",
   "id": "39e798bd",
   "metadata": {},
   "source": [
    "# Set               "
   ]
  },
  {
   "cell_type": "code",
   "execution_count": 2,
   "id": "20d06644",
   "metadata": {},
   "outputs": [],
   "source": [
    "s={3,67,98,45,34,23,12}"
   ]
  },
  {
   "cell_type": "code",
   "execution_count": 3,
   "id": "c49695a1",
   "metadata": {},
   "outputs": [
    {
     "data": {
      "text/plain": [
       "7"
      ]
     },
     "execution_count": 3,
     "metadata": {},
     "output_type": "execute_result"
    }
   ],
   "source": [
    "len(s)"
   ]
  },
  {
   "cell_type": "code",
   "execution_count": 6,
   "id": "6b6a5c7e",
   "metadata": {},
   "outputs": [],
   "source": [
    "s.add(78)            # add 78 at random position ."
   ]
  },
  {
   "cell_type": "code",
   "execution_count": 7,
   "id": "b82f981b",
   "metadata": {},
   "outputs": [
    {
     "data": {
      "text/plain": [
       "{3, 12, 23, 34, 45, 67, 78, 98}"
      ]
     },
     "execution_count": 7,
     "metadata": {},
     "output_type": "execute_result"
    }
   ],
   "source": [
    "s"
   ]
  },
  {
   "cell_type": "code",
   "execution_count": 8,
   "id": "bf156322",
   "metadata": {},
   "outputs": [
    {
     "data": {
      "text/plain": [
       "34"
      ]
     },
     "execution_count": 8,
     "metadata": {},
     "output_type": "execute_result"
    }
   ],
   "source": [
    "s.pop()                # Remove randomly value ."
   ]
  },
  {
   "cell_type": "code",
   "execution_count": 10,
   "id": "bafd2222",
   "metadata": {},
   "outputs": [
    {
     "data": {
      "text/plain": [
       "67"
      ]
     },
     "execution_count": 10,
     "metadata": {},
     "output_type": "execute_result"
    }
   ],
   "source": [
    "s.pop()"
   ]
  },
  {
   "cell_type": "code",
   "execution_count": 11,
   "id": "a397d24b",
   "metadata": {},
   "outputs": [],
   "source": [
    "s.remove(23)"
   ]
  },
  {
   "cell_type": "code",
   "execution_count": 12,
   "id": "e25628c2",
   "metadata": {},
   "outputs": [
    {
     "data": {
      "text/plain": [
       "{3, 12, 45, 78, 98}"
      ]
     },
     "execution_count": 12,
     "metadata": {},
     "output_type": "execute_result"
    }
   ],
   "source": [
    "s"
   ]
  },
  {
   "cell_type": "code",
   "execution_count": 25,
   "id": "e20e4f14",
   "metadata": {},
   "outputs": [
    {
     "ename": "KeyError",
     "evalue": "76",
     "output_type": "error",
     "traceback": [
      "\u001b[1;31m---------------------------------------------------------------------------\u001b[0m",
      "\u001b[1;31mKeyError\u001b[0m                                  Traceback (most recent call last)",
      "\u001b[1;32m<ipython-input-25-2234d9b039c7>\u001b[0m in \u001b[0;36m<module>\u001b[1;34m\u001b[0m\n\u001b[1;32m----> 1\u001b[1;33m \u001b[0ms\u001b[0m\u001b[1;33m.\u001b[0m\u001b[0mremove\u001b[0m\u001b[1;33m(\u001b[0m\u001b[1;36m76\u001b[0m\u001b[1;33m)\u001b[0m\u001b[1;33m\u001b[0m\u001b[1;33m\u001b[0m\u001b[0m\n\u001b[0m",
      "\u001b[1;31mKeyError\u001b[0m: 76"
     ]
    }
   ],
   "source": [
    "s.remove(76)           # Remove shows error"
   ]
  },
  {
   "cell_type": "code",
   "execution_count": 29,
   "id": "4298ea7a",
   "metadata": {},
   "outputs": [],
   "source": [
    "s.discard(0)"
   ]
  },
  {
   "cell_type": "code",
   "execution_count": 27,
   "id": "9cedf1cc",
   "metadata": {},
   "outputs": [
    {
     "data": {
      "text/plain": [
       "{3, 12, 45, 78, 98}"
      ]
     },
     "execution_count": 27,
     "metadata": {},
     "output_type": "execute_result"
    }
   ],
   "source": [
    "s"
   ]
  },
  {
   "cell_type": "code",
   "execution_count": 39,
   "id": "74ef7451",
   "metadata": {},
   "outputs": [],
   "source": [
    "s.clear()"
   ]
  },
  {
   "cell_type": "code",
   "execution_count": 53,
   "id": "699c9869",
   "metadata": {},
   "outputs": [],
   "source": [
    "s1={\"ritu\",\"komal\",\"raj\",\"ravi\"}  "
   ]
  },
  {
   "cell_type": "code",
   "execution_count": 54,
   "id": "ad4a2b2e",
   "metadata": {},
   "outputs": [
    {
     "data": {
      "text/plain": [
       "'ravi'"
      ]
     },
     "execution_count": 54,
     "metadata": {},
     "output_type": "execute_result"
    }
   ],
   "source": [
    "s1.pop()"
   ]
  },
  {
   "cell_type": "code",
   "execution_count": 96,
   "id": "7cdf42d7",
   "metadata": {},
   "outputs": [
    {
     "name": "stdout",
     "output_type": "stream",
     "text": [
      "{'rekha', 'rutuja', 'mina', 'lila', 'uma'}\n"
     ]
    }
   ],
   "source": [
    "f={\"uma\",\"mina\",\"lila\",\"rutuja\",\"rekha\"}\n",
    "print(f)"
   ]
  },
  {
   "cell_type": "code",
   "execution_count": 97,
   "id": "77d79b4c",
   "metadata": {},
   "outputs": [
    {
     "data": {
      "text/plain": [
       "'rekha'"
      ]
     },
     "execution_count": 97,
     "metadata": {},
     "output_type": "execute_result"
    }
   ],
   "source": [
    "f.pop()"
   ]
  },
  {
   "cell_type": "code",
   "execution_count": 103,
   "id": "2aa9f630",
   "metadata": {},
   "outputs": [],
   "source": [
    "f.add(\"esha\")"
   ]
  },
  {
   "cell_type": "code",
   "execution_count": 104,
   "id": "32aa3e4e",
   "metadata": {},
   "outputs": [
    {
     "data": {
      "text/plain": [
       "{'esha', 'lila', 'mina', 'rutuja'}"
      ]
     },
     "execution_count": 104,
     "metadata": {},
     "output_type": "execute_result"
    }
   ],
   "source": [
    "f"
   ]
  },
  {
   "cell_type": "code",
   "execution_count": 105,
   "id": "130054c8",
   "metadata": {},
   "outputs": [
    {
     "name": "stdout",
     "output_type": "stream",
     "text": [
      "\f",
      "\n"
     ]
    }
   ],
   "source": [
    "clear(f)"
   ]
  },
  {
   "cell_type": "markdown",
   "id": "a2aa59bd",
   "metadata": {},
   "source": [
    "# Dictionary Operations."
   ]
  },
  {
   "cell_type": "code",
   "execution_count": 62,
   "id": "42a99bcf",
   "metadata": {},
   "outputs": [],
   "source": [
    "d={\"Name\":[\"nitu\",\"gitu\",\"raju\",\"praju\"],\n",
    "  \"City\":[\"Pune\",\"Aurangabad\",\"Nashik\",\"Shrirampur\"],\n",
    "  \"Food\":[\"idli\",\"dosa\",\"chili\",\"sweet\"],\n",
    "  \"pet\":[\"dog\",\"cat\",\"lion\",\"Tiger\"]}"
   ]
  },
  {
   "cell_type": "code",
   "execution_count": 64,
   "id": "39ae62aa",
   "metadata": {},
   "outputs": [
    {
     "name": "stdout",
     "output_type": "stream",
     "text": [
      "{'Name': ['nitu', 'gitu', 'raju', 'praju'], 'City': ['Pune', 'Aurangabad', 'Nashik', 'Shrirampur'], 'Food': ['idli', 'dosa', 'chili', 'sweet'], 'pet': ['dog', 'cat', 'lion', 'Tiger']}\n"
     ]
    }
   ],
   "source": [
    "print(d)"
   ]
  },
  {
   "cell_type": "code",
   "execution_count": 79,
   "id": "2087967a",
   "metadata": {},
   "outputs": [
    {
     "data": {
      "text/plain": [
       "('pet', ['dog', 'cat', 'lion', 'Tiger'])"
      ]
     },
     "execution_count": 79,
     "metadata": {},
     "output_type": "execute_result"
    }
   ],
   "source": [
    "d.popitem()"
   ]
  },
  {
   "cell_type": "code",
   "execution_count": 82,
   "id": "537386df",
   "metadata": {},
   "outputs": [
    {
     "data": {
      "text/plain": [
       "['nitu', 'gitu', 'raju', 'praju']"
      ]
     },
     "execution_count": 82,
     "metadata": {},
     "output_type": "execute_result"
    }
   ],
   "source": [
    "d.pop(\"Name\")"
   ]
  },
  {
   "cell_type": "code",
   "execution_count": 87,
   "id": "aa634c01",
   "metadata": {},
   "outputs": [],
   "source": [
    "j={\"village\":[\"vith\",\"malu\",\"lad\",\"umbr\"]}"
   ]
  },
  {
   "cell_type": "code",
   "execution_count": 88,
   "id": "d4bfde55",
   "metadata": {},
   "outputs": [],
   "source": [
    "d.update(j)"
   ]
  },
  {
   "cell_type": "code",
   "execution_count": 89,
   "id": "adfa368f",
   "metadata": {},
   "outputs": [
    {
     "data": {
      "text/plain": [
       "{'City': ['Pune', 'Aurangabad', 'Nashik', 'Shrirampur'],\n",
       " 'Food': ['idli', 'dosa', 'chili', 'sweet'],\n",
       " 'village': ['vith', 'malu', 'lad', 'umbr']}"
      ]
     },
     "execution_count": 89,
     "metadata": {},
     "output_type": "execute_result"
    }
   ],
   "source": [
    "d"
   ]
  },
  {
   "cell_type": "code",
   "execution_count": 90,
   "id": "51922e6d",
   "metadata": {},
   "outputs": [],
   "source": [
    "import pandas as pd "
   ]
  },
  {
   "cell_type": "code",
   "execution_count": 91,
   "id": "2b8098f2",
   "metadata": {},
   "outputs": [],
   "source": [
    "s1=pd.DataFrame(d)"
   ]
  },
  {
   "cell_type": "code",
   "execution_count": 92,
   "id": "ecd979fb",
   "metadata": {},
   "outputs": [
    {
     "data": {
      "text/html": [
       "<div>\n",
       "<style scoped>\n",
       "    .dataframe tbody tr th:only-of-type {\n",
       "        vertical-align: middle;\n",
       "    }\n",
       "\n",
       "    .dataframe tbody tr th {\n",
       "        vertical-align: top;\n",
       "    }\n",
       "\n",
       "    .dataframe thead th {\n",
       "        text-align: right;\n",
       "    }\n",
       "</style>\n",
       "<table border=\"1\" class=\"dataframe\">\n",
       "  <thead>\n",
       "    <tr style=\"text-align: right;\">\n",
       "      <th></th>\n",
       "      <th>City</th>\n",
       "      <th>Food</th>\n",
       "      <th>village</th>\n",
       "    </tr>\n",
       "  </thead>\n",
       "  <tbody>\n",
       "    <tr>\n",
       "      <th>0</th>\n",
       "      <td>Pune</td>\n",
       "      <td>idli</td>\n",
       "      <td>vith</td>\n",
       "    </tr>\n",
       "    <tr>\n",
       "      <th>1</th>\n",
       "      <td>Aurangabad</td>\n",
       "      <td>dosa</td>\n",
       "      <td>malu</td>\n",
       "    </tr>\n",
       "    <tr>\n",
       "      <th>2</th>\n",
       "      <td>Nashik</td>\n",
       "      <td>chili</td>\n",
       "      <td>lad</td>\n",
       "    </tr>\n",
       "    <tr>\n",
       "      <th>3</th>\n",
       "      <td>Shrirampur</td>\n",
       "      <td>sweet</td>\n",
       "      <td>umbr</td>\n",
       "    </tr>\n",
       "  </tbody>\n",
       "</table>\n",
       "</div>"
      ],
      "text/plain": [
       "         City   Food village\n",
       "0        Pune   idli    vith\n",
       "1  Aurangabad   dosa    malu\n",
       "2      Nashik  chili     lad\n",
       "3  Shrirampur  sweet    umbr"
      ]
     },
     "execution_count": 92,
     "metadata": {},
     "output_type": "execute_result"
    }
   ],
   "source": [
    "s1"
   ]
  },
  {
   "cell_type": "code",
   "execution_count": 94,
   "id": "440f97ff",
   "metadata": {},
   "outputs": [],
   "source": [
    "csv_d=s1.to_csv()"
   ]
  },
  {
   "cell_type": "code",
   "execution_count": 95,
   "id": "79503d1a",
   "metadata": {},
   "outputs": [
    {
     "name": "stdout",
     "output_type": "stream",
     "text": [
      ",City,Food,village\r\n",
      "0,Pune,idli,vith\r\n",
      "1,Aurangabad,dosa,malu\r\n",
      "2,Nashik,chili,lad\r\n",
      "3,Shrirampur,sweet,umbr\r\n",
      "\n"
     ]
    }
   ],
   "source": [
    "print(csv_d)"
   ]
  },
  {
   "cell_type": "code",
   "execution_count": null,
   "id": "d9c3a1a8",
   "metadata": {},
   "outputs": [],
   "source": []
  }
 ],
 "metadata": {
  "kernelspec": {
   "display_name": "Python 3",
   "language": "python",
   "name": "python3"
  },
  "language_info": {
   "codemirror_mode": {
    "name": "ipython",
    "version": 3
   },
   "file_extension": ".py",
   "mimetype": "text/x-python",
   "name": "python",
   "nbconvert_exporter": "python",
   "pygments_lexer": "ipython3",
   "version": "3.8.8"
  }
 },
 "nbformat": 4,
 "nbformat_minor": 5
}
