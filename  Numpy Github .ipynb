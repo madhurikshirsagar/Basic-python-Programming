{
 "cells": [
  {
   "cell_type": "markdown",
   "id": "a1fd83c4",
   "metadata": {},
   "source": [
    "# Numpy "
   ]
  },
  {
   "cell_type": "code",
   "execution_count": 3,
   "id": "72a8442e",
   "metadata": {},
   "outputs": [],
   "source": [
    "import numpy as np"
   ]
  },
  {
   "cell_type": "code",
   "execution_count": 4,
   "id": "49c39f96",
   "metadata": {},
   "outputs": [
    {
     "name": "stdout",
     "output_type": "stream",
     "text": [
      "[ 5  6  7  8  9 10 34 43 12 56 67 98 21 45]\n"
     ]
    }
   ],
   "source": [
    "a=np.array([5,6,7,8,9,10,34,43,12,56,67,98,21,45])\n",
    "print(a)"
   ]
  },
  {
   "cell_type": "code",
   "execution_count": 5,
   "id": "53db4cb9",
   "metadata": {},
   "outputs": [
    {
     "name": "stdout",
     "output_type": "stream",
     "text": [
      "1\n"
     ]
    }
   ],
   "source": [
    "print(a.ndim)"
   ]
  },
  {
   "cell_type": "code",
   "execution_count": 6,
   "id": "d807b620",
   "metadata": {},
   "outputs": [
    {
     "data": {
      "text/plain": [
       "(14,)"
      ]
     },
     "execution_count": 6,
     "metadata": {},
     "output_type": "execute_result"
    }
   ],
   "source": [
    "a.shape"
   ]
  },
  {
   "cell_type": "code",
   "execution_count": 7,
   "id": "58ecd60b",
   "metadata": {},
   "outputs": [
    {
     "data": {
      "text/plain": [
       "numpy.ndarray"
      ]
     },
     "execution_count": 7,
     "metadata": {},
     "output_type": "execute_result"
    }
   ],
   "source": [
    "type(a)"
   ]
  },
  {
   "cell_type": "code",
   "execution_count": 8,
   "id": "3ac3e347",
   "metadata": {},
   "outputs": [
    {
     "data": {
      "text/plain": [
       "dtype('int32')"
      ]
     },
     "execution_count": 8,
     "metadata": {},
     "output_type": "execute_result"
    }
   ],
   "source": [
    "a.dtype"
   ]
  },
  {
   "cell_type": "code",
   "execution_count": 9,
   "id": "a865888e",
   "metadata": {},
   "outputs": [
    {
     "name": "stdout",
     "output_type": "stream",
     "text": [
      "['madhu' 'komal' 'rahul' 'piuu' 'renu' 'revti']\n"
     ]
    }
   ],
   "source": [
    "b=np.array([\"madhu\",\"komal\",\"rahul\",\"piuu\",\"renu\",\"revti\"])\n",
    "print(b)"
   ]
  },
  {
   "cell_type": "code",
   "execution_count": 10,
   "id": "ab167a33",
   "metadata": {},
   "outputs": [
    {
     "data": {
      "text/plain": [
       "numpy.ndarray"
      ]
     },
     "execution_count": 10,
     "metadata": {},
     "output_type": "execute_result"
    }
   ],
   "source": [
    "type(b)"
   ]
  },
  {
   "cell_type": "code",
   "execution_count": 11,
   "id": "15b21780",
   "metadata": {},
   "outputs": [
    {
     "data": {
      "text/plain": [
       "(6,)"
      ]
     },
     "execution_count": 11,
     "metadata": {},
     "output_type": "execute_result"
    }
   ],
   "source": [
    "b.shape"
   ]
  },
  {
   "cell_type": "code",
   "execution_count": 12,
   "id": "a35b86f4",
   "metadata": {},
   "outputs": [
    {
     "data": {
      "text/plain": [
       "1"
      ]
     },
     "execution_count": 12,
     "metadata": {},
     "output_type": "execute_result"
    }
   ],
   "source": [
    "b.ndim"
   ]
  },
  {
   "cell_type": "code",
   "execution_count": 13,
   "id": "73955a22",
   "metadata": {},
   "outputs": [
    {
     "data": {
      "text/plain": [
       "array([['madhu', 'komal'],\n",
       "       ['rahul', 'piuu'],\n",
       "       ['renu', 'revti']], dtype='<U5')"
      ]
     },
     "execution_count": 13,
     "metadata": {},
     "output_type": "execute_result"
    }
   ],
   "source": [
    "b.reshape(3,2)"
   ]
  },
  {
   "cell_type": "code",
   "execution_count": 14,
   "id": "76ff9b48",
   "metadata": {},
   "outputs": [
    {
     "data": {
      "text/plain": [
       "array([[ 5,  6,  7,  8,  9, 10, 34],\n",
       "       [43, 12, 56, 67, 98, 21, 45]])"
      ]
     },
     "execution_count": 14,
     "metadata": {},
     "output_type": "execute_result"
    }
   ],
   "source": [
    "a.reshape(2,7)"
   ]
  },
  {
   "cell_type": "code",
   "execution_count": 15,
   "id": "4bec75d1",
   "metadata": {},
   "outputs": [],
   "source": [
    "a.sort()"
   ]
  },
  {
   "cell_type": "code",
   "execution_count": 16,
   "id": "0954163e",
   "metadata": {},
   "outputs": [
    {
     "name": "stdout",
     "output_type": "stream",
     "text": [
      "[ 5  6  7  8  9 10 12 21 34 43 45 56 67 98]\n"
     ]
    }
   ],
   "source": [
    "print(a)"
   ]
  },
  {
   "cell_type": "code",
   "execution_count": 17,
   "id": "e26db92e",
   "metadata": {},
   "outputs": [],
   "source": [
    "b.sort()"
   ]
  },
  {
   "cell_type": "code",
   "execution_count": 18,
   "id": "da3d6927",
   "metadata": {},
   "outputs": [
    {
     "name": "stdout",
     "output_type": "stream",
     "text": [
      "['komal' 'madhu' 'piuu' 'rahul' 'renu' 'revti']\n"
     ]
    }
   ],
   "source": [
    "print(b)"
   ]
  },
  {
   "cell_type": "code",
   "execution_count": 19,
   "id": "435f43cd",
   "metadata": {},
   "outputs": [],
   "source": [
    "a1=np.array([34,89,46,99,100])\n",
    "a2=np.array([45,32,45,78.98,89])"
   ]
  },
  {
   "cell_type": "code",
   "execution_count": 20,
   "id": "4f46bdcb",
   "metadata": {},
   "outputs": [
    {
     "name": "stdout",
     "output_type": "stream",
     "text": [
      "[ 79.   121.    91.   177.98 189.  ]\n"
     ]
    }
   ],
   "source": [
    "print(a1+a2)"
   ]
  },
  {
   "cell_type": "markdown",
   "id": "27be34c2",
   "metadata": {},
   "source": [
    "# Two Dimentional Array"
   ]
  },
  {
   "cell_type": "code",
   "execution_count": 21,
   "id": "1f042cdd",
   "metadata": {},
   "outputs": [],
   "source": [
    "import numpy as np"
   ]
  },
  {
   "cell_type": "code",
   "execution_count": 22,
   "id": "be2a4d23",
   "metadata": {},
   "outputs": [
    {
     "name": "stdout",
     "output_type": "stream",
     "text": [
      "[[ 2  3  4  7]\n",
      " [23 56 78 34]]\n"
     ]
    }
   ],
   "source": [
    "f=np.array([[2,3,4,7],[23,56,78,34]])\n",
    "print(f)"
   ]
  },
  {
   "cell_type": "code",
   "execution_count": 23,
   "id": "dca2f754",
   "metadata": {},
   "outputs": [
    {
     "data": {
      "text/plain": [
       "(2, 4)"
      ]
     },
     "execution_count": 23,
     "metadata": {},
     "output_type": "execute_result"
    }
   ],
   "source": [
    "f.shape"
   ]
  },
  {
   "cell_type": "code",
   "execution_count": 24,
   "id": "0fade0fe",
   "metadata": {},
   "outputs": [
    {
     "data": {
      "text/plain": [
       "array([[ 2,  3],\n",
       "       [ 4,  7],\n",
       "       [23, 56],\n",
       "       [78, 34]])"
      ]
     },
     "execution_count": 24,
     "metadata": {},
     "output_type": "execute_result"
    }
   ],
   "source": [
    "f.reshape(4,2)"
   ]
  },
  {
   "cell_type": "code",
   "execution_count": 25,
   "id": "571d167f",
   "metadata": {},
   "outputs": [
    {
     "data": {
      "text/plain": [
       "2"
      ]
     },
     "execution_count": 25,
     "metadata": {},
     "output_type": "execute_result"
    }
   ],
   "source": [
    "f.ndim"
   ]
  },
  {
   "cell_type": "code",
   "execution_count": 26,
   "id": "823fcba5",
   "metadata": {},
   "outputs": [
    {
     "data": {
      "text/plain": [
       "numpy.ndarray"
      ]
     },
     "execution_count": 26,
     "metadata": {},
     "output_type": "execute_result"
    }
   ],
   "source": [
    "type(f)"
   ]
  },
  {
   "cell_type": "code",
   "execution_count": 27,
   "id": "872dfe49",
   "metadata": {},
   "outputs": [],
   "source": [
    "f.sort()"
   ]
  },
  {
   "cell_type": "code",
   "execution_count": 28,
   "id": "d693a71a",
   "metadata": {},
   "outputs": [
    {
     "name": "stdout",
     "output_type": "stream",
     "text": [
      "[[ 2  3  4  7]\n",
      " [23 34 56 78]]\n"
     ]
    }
   ],
   "source": [
    "print(f)"
   ]
  },
  {
   "cell_type": "markdown",
   "id": "92c263d8",
   "metadata": {},
   "source": [
    "# For Loop"
   ]
  },
  {
   "cell_type": "code",
   "execution_count": 29,
   "id": "38e4f6e3",
   "metadata": {},
   "outputs": [],
   "source": [
    "import numpy as np"
   ]
  },
  {
   "cell_type": "code",
   "execution_count": 30,
   "id": "74f546f5",
   "metadata": {},
   "outputs": [
    {
     "name": "stdout",
     "output_type": "stream",
     "text": [
      "[[[34 76 56 45]\n",
      "  [34 23 12 34]\n",
      "  [43 23 12 23]]]\n"
     ]
    }
   ],
   "source": [
    "d=np.array([[[34,76,56,45],[34,23,12,34],[43,23,12,23]]])\n",
    "print(d)"
   ]
  },
  {
   "cell_type": "code",
   "execution_count": 31,
   "id": "12be3ac4",
   "metadata": {},
   "outputs": [
    {
     "name": "stdout",
     "output_type": "stream",
     "text": [
      "[[34 76 56 45]\n",
      " [34 23 12 34]\n",
      " [43 23 12 23]]\n"
     ]
    }
   ],
   "source": [
    "d=np.array([[[34,76,56,45],[34,23,12,34],[43,23,12,23]]])\n",
    "for x in d:\n",
    "    print(x)"
   ]
  },
  {
   "cell_type": "code",
   "execution_count": 35,
   "id": "67530889",
   "metadata": {},
   "outputs": [
    {
     "name": "stdout",
     "output_type": "stream",
     "text": [
      "yes [[34 76 56 45]\n",
      " [34 23 12 34]\n",
      " [43 23 12 23]]\n",
      "no [34 76 56 45]\n",
      "no [34 23 12 34]\n",
      "no [43 23 12 23]\n"
     ]
    }
   ],
   "source": [
    "d=np.array([[[34,76,56,45],[34,23,12,34],[43,23,12,23]]])\n",
    "for x in d:\n",
    "    print(\"yes\",x)\n",
    "    for y in x:\n",
    "        print(\"no\",y)\n",
    "    \n",
    "        "
   ]
  },
  {
   "cell_type": "code",
   "execution_count": 36,
   "id": "5948b88a",
   "metadata": {},
   "outputs": [
    {
     "name": "stdout",
     "output_type": "stream",
     "text": [
      "My name is madhu\n",
      "My name is madhu\n",
      "My name is madhu\n",
      "My name is madhu\n",
      "My name is madhu\n",
      "My name is madhu\n",
      "My name is madhu\n",
      "My name is madhu\n",
      "My name is madhu\n",
      "My name is madhu\n",
      "My name is madhu\n",
      "My name is madhu\n"
     ]
    }
   ],
   "source": [
    "d=np.array([[[34,76,56,45],[34,23,12,34],[43,23,12,23]]])\n",
    "for x in d:\n",
    "    for y in x:\n",
    "        for u in y:\n",
    "            print(\"My name is madhu\")"
   ]
  },
  {
   "cell_type": "code",
   "execution_count": 37,
   "id": "100118c9",
   "metadata": {},
   "outputs": [
    {
     "name": "stdout",
     "output_type": "stream",
     "text": [
      "[list([2, 4, 5, 6, 7, 8, 6, 4, 4, 3, 3, 3])\n",
      " list([3, 4, 5, 6, 7, 8, 9, 3, 2, 1, 3])\n",
      " list([3, 4, 5, 6, 8, 9, 3, 2, 2, 2])]\n"
     ]
    },
    {
     "name": "stderr",
     "output_type": "stream",
     "text": [
      "<ipython-input-37-06737b564538>:1: VisibleDeprecationWarning: Creating an ndarray from ragged nested sequences (which is a list-or-tuple of lists-or-tuples-or ndarrays with different lengths or shapes) is deprecated. If you meant to do this, you must specify 'dtype=object' when creating the ndarray.\n",
      "  k=np.array([[2,4,5,6,7,8,6,4,4,3,3,3],[3,4,5,6,7,8,9,3,2,1,3],[3,4,5,6,8,9,3,2,2,2]])\n"
     ]
    }
   ],
   "source": [
    "k=np.array([[2,4,5,6,7,8,6,4,4,3,3,3],[3,4,5,6,7,8,9,3,2,1,3],[3,4,5,6,8,9,3,2,2,2]])\n",
    "print(k)"
   ]
  },
  {
   "cell_type": "code",
   "execution_count": 38,
   "id": "25aece48",
   "metadata": {},
   "outputs": [
    {
     "data": {
      "text/plain": [
       "1"
      ]
     },
     "execution_count": 38,
     "metadata": {},
     "output_type": "execute_result"
    }
   ],
   "source": [
    "k.ndim"
   ]
  },
  {
   "cell_type": "code",
   "execution_count": 39,
   "id": "5cf24516",
   "metadata": {},
   "outputs": [
    {
     "data": {
      "text/plain": [
       "numpy.ndarray"
      ]
     },
     "execution_count": 39,
     "metadata": {},
     "output_type": "execute_result"
    }
   ],
   "source": [
    "type(k)"
   ]
  },
  {
   "cell_type": "code",
   "execution_count": 40,
   "id": "197ebce5",
   "metadata": {},
   "outputs": [],
   "source": [
    "s1=np.array([2, 4, 5, 6, 7, 8, 6, 4, 4, 3, 3, 3])\n",
    "s2=np.array([3, 4, 5, 6, 7, 8, 9, 3, 2, 1, 3])\n",
    "s3=np.array([3, 4, 5, 6, 8, 9, 3, 2, 2, 2])"
   ]
  },
  {
   "cell_type": "code",
   "execution_count": 51,
   "id": "6512d452",
   "metadata": {},
   "outputs": [
    {
     "name": "stdout",
     "output_type": "stream",
     "text": [
      "[2 4 5 6 7 8 6 4 4 3 3 3 3 4 5 6 7 8 9 3 2 1 3 3 4 5 6 8 9 3 2 2 2]\n"
     ]
    }
   ],
   "source": [
    "ab=np.concatenate((s1,s2,s3))      #concate the array\n",
    "print(ab)"
   ]
  },
  {
   "cell_type": "code",
   "execution_count": 52,
   "id": "1a48db16",
   "metadata": {},
   "outputs": [],
   "source": [
    "s4=np.array([2, 4, 5, 6, 7, 8, 6, 4, 4])\n",
    "s5=np.array([3, 4, 5, 6, 7, 8, 9, 3, 2])\n",
    "s6=np.array([3, 4, 5, 6, 8, 9, 3, 2, 2])"
   ]
  },
  {
   "cell_type": "code",
   "execution_count": 53,
   "id": "f1d7ab4b",
   "metadata": {},
   "outputs": [
    {
     "name": "stdout",
     "output_type": "stream",
     "text": [
      "[ 18  64 125 216 392 576 162  24  16]\n"
     ]
    }
   ],
   "source": [
    "print(s4*s5*s6)"
   ]
  },
  {
   "cell_type": "code",
   "execution_count": 54,
   "id": "07381d44",
   "metadata": {},
   "outputs": [
    {
     "name": "stdout",
     "output_type": "stream",
     "text": [
      "[ 8 12 15 18 22 25 18  9  8]\n"
     ]
    }
   ],
   "source": [
    "print(s4+s5+s6)"
   ]
  },
  {
   "cell_type": "code",
   "execution_count": 55,
   "id": "a0e68b09",
   "metadata": {},
   "outputs": [
    {
     "name": "stdout",
     "output_type": "stream",
     "text": [
      "[2 4 5 6 8 9 0 3 4]\n"
     ]
    }
   ],
   "source": [
    "print(s4-s5+s6)"
   ]
  },
  {
   "cell_type": "code",
   "execution_count": 56,
   "id": "c2f01448",
   "metadata": {},
   "outputs": [],
   "source": [
    "a=np.array([5,6,7,8,9,10,34,43,12,56,67,98,21,45])"
   ]
  },
  {
   "cell_type": "code",
   "execution_count": 57,
   "id": "402b97fb",
   "metadata": {},
   "outputs": [
    {
     "data": {
      "text/plain": [
       "(array([ 0,  1,  2,  3,  4,  5,  6,  7,  8,  9, 10, 11, 12, 13],\n",
       "       dtype=int64),)"
      ]
     },
     "execution_count": 57,
     "metadata": {},
     "output_type": "execute_result"
    }
   ],
   "source": [
    "np.where(a)       # give the position of element "
   ]
  },
  {
   "cell_type": "code",
   "execution_count": 58,
   "id": "ad2d201b",
   "metadata": {},
   "outputs": [
    {
     "data": {
      "text/plain": [
       "array([ 5,  6,  7,  8,  9, 10, 12, 21, 34, 43, 45, 56, 67, 98])"
      ]
     },
     "execution_count": 58,
     "metadata": {},
     "output_type": "execute_result"
    }
   ],
   "source": [
    "np.sort(a)       # Asending Order "
   ]
  },
  {
   "cell_type": "code",
   "execution_count": 59,
   "id": "572db40a",
   "metadata": {},
   "outputs": [
    {
     "data": {
      "text/plain": [
       "array([45, 21, 98, 67, 56, 12, 43, 34, 10,  9,  8,  7,  6,  5])"
      ]
     },
     "execution_count": 59,
     "metadata": {},
     "output_type": "execute_result"
    }
   ],
   "source": [
    "np.flip(a)   # Reverse order of array"
   ]
  },
  {
   "cell_type": "code",
   "execution_count": 60,
   "id": "b9355c32",
   "metadata": {},
   "outputs": [
    {
     "name": "stdout",
     "output_type": "stream",
     "text": [
      "[array([5, 6, 7]), array([ 8,  9, 10]), array([34, 43]), array([12, 56]), array([67, 98]), array([21, 45])]\n"
     ]
    }
   ],
   "source": [
    "b=np.array_split(a,6)   # split the array\n",
    "print(b)"
   ]
  }
 ],
 "metadata": {
  "kernelspec": {
   "display_name": "Python 3",
   "language": "python",
   "name": "python3"
  },
  "language_info": {
   "codemirror_mode": {
    "name": "ipython",
    "version": 3
   },
   "file_extension": ".py",
   "mimetype": "text/x-python",
   "name": "python",
   "nbconvert_exporter": "python",
   "pygments_lexer": "ipython3",
   "version": "3.8.8"
  }
 },
 "nbformat": 4,
 "nbformat_minor": 5
}
