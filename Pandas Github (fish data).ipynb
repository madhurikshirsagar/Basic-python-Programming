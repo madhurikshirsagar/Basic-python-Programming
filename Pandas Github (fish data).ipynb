{
 "cells": [
  {
   "cell_type": "markdown",
   "id": "f52322fd",
   "metadata": {},
   "source": [
    "# Pandas"
   ]
  },
  {
   "cell_type": "code",
   "execution_count": 1,
   "id": "4359abab",
   "metadata": {},
   "outputs": [],
   "source": [
    "import numpy as np\n",
    "import pandas as pd "
   ]
  },
  {
   "cell_type": "code",
   "execution_count": 2,
   "id": "2a11c7bf",
   "metadata": {},
   "outputs": [],
   "source": [
    "data=pd.read_csv(r\"C:\\Users\\akshi\\OneDrive\\Documents\\data set\\Fish -.csv\")"
   ]
  },
  {
   "cell_type": "code",
   "execution_count": 3,
   "id": "b7f6ab4a",
   "metadata": {},
   "outputs": [
    {
     "data": {
      "text/html": [
       "<div>\n",
       "<style scoped>\n",
       "    .dataframe tbody tr th:only-of-type {\n",
       "        vertical-align: middle;\n",
       "    }\n",
       "\n",
       "    .dataframe tbody tr th {\n",
       "        vertical-align: top;\n",
       "    }\n",
       "\n",
       "    .dataframe thead th {\n",
       "        text-align: right;\n",
       "    }\n",
       "</style>\n",
       "<table border=\"1\" class=\"dataframe\">\n",
       "  <thead>\n",
       "    <tr style=\"text-align: right;\">\n",
       "      <th></th>\n",
       "      <th>Species</th>\n",
       "      <th>Weight</th>\n",
       "      <th>Length1</th>\n",
       "      <th>Length2</th>\n",
       "      <th>Length3</th>\n",
       "      <th>Height</th>\n",
       "      <th>Width</th>\n",
       "    </tr>\n",
       "  </thead>\n",
       "  <tbody>\n",
       "    <tr>\n",
       "      <th>0</th>\n",
       "      <td>Bream</td>\n",
       "      <td>242.0</td>\n",
       "      <td>23.2</td>\n",
       "      <td>25.4</td>\n",
       "      <td>30.0</td>\n",
       "      <td>11.5200</td>\n",
       "      <td>4.0200</td>\n",
       "    </tr>\n",
       "    <tr>\n",
       "      <th>1</th>\n",
       "      <td>Bream</td>\n",
       "      <td>290.0</td>\n",
       "      <td>24.0</td>\n",
       "      <td>26.3</td>\n",
       "      <td>31.2</td>\n",
       "      <td>12.4800</td>\n",
       "      <td>4.3056</td>\n",
       "    </tr>\n",
       "    <tr>\n",
       "      <th>2</th>\n",
       "      <td>Bream</td>\n",
       "      <td>340.0</td>\n",
       "      <td>23.9</td>\n",
       "      <td>26.5</td>\n",
       "      <td>31.1</td>\n",
       "      <td>12.3778</td>\n",
       "      <td>4.6961</td>\n",
       "    </tr>\n",
       "    <tr>\n",
       "      <th>3</th>\n",
       "      <td>Bream</td>\n",
       "      <td>363.0</td>\n",
       "      <td>26.3</td>\n",
       "      <td>29.0</td>\n",
       "      <td>33.5</td>\n",
       "      <td>12.7300</td>\n",
       "      <td>4.4555</td>\n",
       "    </tr>\n",
       "    <tr>\n",
       "      <th>4</th>\n",
       "      <td>Bream</td>\n",
       "      <td>430.0</td>\n",
       "      <td>26.5</td>\n",
       "      <td>29.0</td>\n",
       "      <td>34.0</td>\n",
       "      <td>12.4440</td>\n",
       "      <td>5.1340</td>\n",
       "    </tr>\n",
       "  </tbody>\n",
       "</table>\n",
       "</div>"
      ],
      "text/plain": [
       "  Species  Weight  Length1  Length2  Length3   Height   Width\n",
       "0   Bream   242.0     23.2     25.4     30.0  11.5200  4.0200\n",
       "1   Bream   290.0     24.0     26.3     31.2  12.4800  4.3056\n",
       "2   Bream   340.0     23.9     26.5     31.1  12.3778  4.6961\n",
       "3   Bream   363.0     26.3     29.0     33.5  12.7300  4.4555\n",
       "4   Bream   430.0     26.5     29.0     34.0  12.4440  5.1340"
      ]
     },
     "execution_count": 3,
     "metadata": {},
     "output_type": "execute_result"
    }
   ],
   "source": [
    "data.head()                # given data "
   ]
  },
  {
   "cell_type": "code",
   "execution_count": 4,
   "id": "f2edd877",
   "metadata": {},
   "outputs": [
    {
     "data": {
      "text/html": [
       "<div>\n",
       "<style scoped>\n",
       "    .dataframe tbody tr th:only-of-type {\n",
       "        vertical-align: middle;\n",
       "    }\n",
       "\n",
       "    .dataframe tbody tr th {\n",
       "        vertical-align: top;\n",
       "    }\n",
       "\n",
       "    .dataframe thead th {\n",
       "        text-align: right;\n",
       "    }\n",
       "</style>\n",
       "<table border=\"1\" class=\"dataframe\">\n",
       "  <thead>\n",
       "    <tr style=\"text-align: right;\">\n",
       "      <th></th>\n",
       "      <th>Species</th>\n",
       "      <th>Weight</th>\n",
       "      <th>Length1</th>\n",
       "      <th>Length2</th>\n",
       "      <th>Length3</th>\n",
       "      <th>Height</th>\n",
       "      <th>Width</th>\n",
       "    </tr>\n",
       "  </thead>\n",
       "  <tbody>\n",
       "    <tr>\n",
       "      <th>154</th>\n",
       "      <td>Smelt</td>\n",
       "      <td>12.2</td>\n",
       "      <td>11.5</td>\n",
       "      <td>12.2</td>\n",
       "      <td>13.4</td>\n",
       "      <td>2.0904</td>\n",
       "      <td>1.3936</td>\n",
       "    </tr>\n",
       "    <tr>\n",
       "      <th>155</th>\n",
       "      <td>Smelt</td>\n",
       "      <td>13.4</td>\n",
       "      <td>11.7</td>\n",
       "      <td>12.4</td>\n",
       "      <td>13.5</td>\n",
       "      <td>2.4300</td>\n",
       "      <td>1.2690</td>\n",
       "    </tr>\n",
       "    <tr>\n",
       "      <th>156</th>\n",
       "      <td>Smelt</td>\n",
       "      <td>12.2</td>\n",
       "      <td>12.1</td>\n",
       "      <td>13.0</td>\n",
       "      <td>13.8</td>\n",
       "      <td>2.2770</td>\n",
       "      <td>1.2558</td>\n",
       "    </tr>\n",
       "    <tr>\n",
       "      <th>157</th>\n",
       "      <td>Smelt</td>\n",
       "      <td>19.7</td>\n",
       "      <td>13.2</td>\n",
       "      <td>14.3</td>\n",
       "      <td>15.2</td>\n",
       "      <td>2.8728</td>\n",
       "      <td>2.0672</td>\n",
       "    </tr>\n",
       "    <tr>\n",
       "      <th>158</th>\n",
       "      <td>Smelt</td>\n",
       "      <td>19.9</td>\n",
       "      <td>13.8</td>\n",
       "      <td>15.0</td>\n",
       "      <td>16.2</td>\n",
       "      <td>2.9322</td>\n",
       "      <td>1.8792</td>\n",
       "    </tr>\n",
       "  </tbody>\n",
       "</table>\n",
       "</div>"
      ],
      "text/plain": [
       "    Species  Weight  Length1  Length2  Length3  Height   Width\n",
       "154   Smelt    12.2     11.5     12.2     13.4  2.0904  1.3936\n",
       "155   Smelt    13.4     11.7     12.4     13.5  2.4300  1.2690\n",
       "156   Smelt    12.2     12.1     13.0     13.8  2.2770  1.2558\n",
       "157   Smelt    19.7     13.2     14.3     15.2  2.8728  2.0672\n",
       "158   Smelt    19.9     13.8     15.0     16.2  2.9322  1.8792"
      ]
     },
     "execution_count": 4,
     "metadata": {},
     "output_type": "execute_result"
    }
   ],
   "source": [
    "data.tail()           # gives Last 5 Rows of data ."
   ]
  },
  {
   "cell_type": "code",
   "execution_count": 5,
   "id": "5b76bc61",
   "metadata": {},
   "outputs": [
    {
     "data": {
      "text/html": [
       "<div>\n",
       "<style scoped>\n",
       "    .dataframe tbody tr th:only-of-type {\n",
       "        vertical-align: middle;\n",
       "    }\n",
       "\n",
       "    .dataframe tbody tr th {\n",
       "        vertical-align: top;\n",
       "    }\n",
       "\n",
       "    .dataframe thead th {\n",
       "        text-align: right;\n",
       "    }\n",
       "</style>\n",
       "<table border=\"1\" class=\"dataframe\">\n",
       "  <thead>\n",
       "    <tr style=\"text-align: right;\">\n",
       "      <th></th>\n",
       "      <th>Species</th>\n",
       "      <th>Weight</th>\n",
       "      <th>Length1</th>\n",
       "      <th>Length2</th>\n",
       "      <th>Length3</th>\n",
       "      <th>Height</th>\n",
       "      <th>Width</th>\n",
       "    </tr>\n",
       "  </thead>\n",
       "  <tbody>\n",
       "    <tr>\n",
       "      <th>0</th>\n",
       "      <td>False</td>\n",
       "      <td>False</td>\n",
       "      <td>False</td>\n",
       "      <td>False</td>\n",
       "      <td>False</td>\n",
       "      <td>False</td>\n",
       "      <td>False</td>\n",
       "    </tr>\n",
       "    <tr>\n",
       "      <th>1</th>\n",
       "      <td>False</td>\n",
       "      <td>False</td>\n",
       "      <td>False</td>\n",
       "      <td>False</td>\n",
       "      <td>False</td>\n",
       "      <td>False</td>\n",
       "      <td>False</td>\n",
       "    </tr>\n",
       "    <tr>\n",
       "      <th>2</th>\n",
       "      <td>False</td>\n",
       "      <td>False</td>\n",
       "      <td>False</td>\n",
       "      <td>False</td>\n",
       "      <td>False</td>\n",
       "      <td>False</td>\n",
       "      <td>False</td>\n",
       "    </tr>\n",
       "    <tr>\n",
       "      <th>3</th>\n",
       "      <td>False</td>\n",
       "      <td>False</td>\n",
       "      <td>False</td>\n",
       "      <td>False</td>\n",
       "      <td>False</td>\n",
       "      <td>False</td>\n",
       "      <td>False</td>\n",
       "    </tr>\n",
       "    <tr>\n",
       "      <th>4</th>\n",
       "      <td>False</td>\n",
       "      <td>False</td>\n",
       "      <td>False</td>\n",
       "      <td>False</td>\n",
       "      <td>False</td>\n",
       "      <td>False</td>\n",
       "      <td>False</td>\n",
       "    </tr>\n",
       "    <tr>\n",
       "      <th>...</th>\n",
       "      <td>...</td>\n",
       "      <td>...</td>\n",
       "      <td>...</td>\n",
       "      <td>...</td>\n",
       "      <td>...</td>\n",
       "      <td>...</td>\n",
       "      <td>...</td>\n",
       "    </tr>\n",
       "    <tr>\n",
       "      <th>154</th>\n",
       "      <td>False</td>\n",
       "      <td>False</td>\n",
       "      <td>False</td>\n",
       "      <td>False</td>\n",
       "      <td>False</td>\n",
       "      <td>False</td>\n",
       "      <td>False</td>\n",
       "    </tr>\n",
       "    <tr>\n",
       "      <th>155</th>\n",
       "      <td>False</td>\n",
       "      <td>False</td>\n",
       "      <td>False</td>\n",
       "      <td>False</td>\n",
       "      <td>False</td>\n",
       "      <td>False</td>\n",
       "      <td>False</td>\n",
       "    </tr>\n",
       "    <tr>\n",
       "      <th>156</th>\n",
       "      <td>False</td>\n",
       "      <td>False</td>\n",
       "      <td>False</td>\n",
       "      <td>False</td>\n",
       "      <td>False</td>\n",
       "      <td>False</td>\n",
       "      <td>False</td>\n",
       "    </tr>\n",
       "    <tr>\n",
       "      <th>157</th>\n",
       "      <td>False</td>\n",
       "      <td>False</td>\n",
       "      <td>False</td>\n",
       "      <td>False</td>\n",
       "      <td>False</td>\n",
       "      <td>False</td>\n",
       "      <td>False</td>\n",
       "    </tr>\n",
       "    <tr>\n",
       "      <th>158</th>\n",
       "      <td>False</td>\n",
       "      <td>False</td>\n",
       "      <td>False</td>\n",
       "      <td>False</td>\n",
       "      <td>False</td>\n",
       "      <td>False</td>\n",
       "      <td>False</td>\n",
       "    </tr>\n",
       "  </tbody>\n",
       "</table>\n",
       "<p>159 rows × 7 columns</p>\n",
       "</div>"
      ],
      "text/plain": [
       "     Species  Weight  Length1  Length2  Length3  Height  Width\n",
       "0      False   False    False    False    False   False  False\n",
       "1      False   False    False    False    False   False  False\n",
       "2      False   False    False    False    False   False  False\n",
       "3      False   False    False    False    False   False  False\n",
       "4      False   False    False    False    False   False  False\n",
       "..       ...     ...      ...      ...      ...     ...    ...\n",
       "154    False   False    False    False    False   False  False\n",
       "155    False   False    False    False    False   False  False\n",
       "156    False   False    False    False    False   False  False\n",
       "157    False   False    False    False    False   False  False\n",
       "158    False   False    False    False    False   False  False\n",
       "\n",
       "[159 rows x 7 columns]"
      ]
     },
     "execution_count": 5,
     "metadata": {},
     "output_type": "execute_result"
    }
   ],
   "source": [
    "data.isnull()       #Find the missing values ."
   ]
  },
  {
   "cell_type": "code",
   "execution_count": 6,
   "id": "c14ac9f7",
   "metadata": {},
   "outputs": [
    {
     "data": {
      "text/plain": [
       "Species    0\n",
       "Weight     0\n",
       "Length1    0\n",
       "Length2    0\n",
       "Length3    0\n",
       "Height     0\n",
       "Width      0\n",
       "dtype: int64"
      ]
     },
     "execution_count": 6,
     "metadata": {},
     "output_type": "execute_result"
    }
   ],
   "source": [
    "data.isnull().sum()    #Find the missing values count "
   ]
  },
  {
   "cell_type": "code",
   "execution_count": 7,
   "id": "dba8b30f",
   "metadata": {},
   "outputs": [
    {
     "name": "stderr",
     "output_type": "stream",
     "text": [
      "<ipython-input-7-da74e1505399>:1: FutureWarning: Dropping of nuisance columns in DataFrame reductions (with 'numeric_only=None') is deprecated; in a future version this will raise TypeError.  Select only valid columns before calling the reduction.\n",
      "  data.mean()            # It gives average of the given numerical columns\n"
     ]
    },
    {
     "data": {
      "text/plain": [
       "Weight     398.326415\n",
       "Length1     26.247170\n",
       "Length2     28.415723\n",
       "Length3     31.227044\n",
       "Height       8.970994\n",
       "Width        4.417486\n",
       "dtype: float64"
      ]
     },
     "execution_count": 7,
     "metadata": {},
     "output_type": "execute_result"
    }
   ],
   "source": [
    "data.mean()            # It gives average of the given numerical columns"
   ]
  },
  {
   "cell_type": "code",
   "execution_count": 8,
   "id": "7520b688",
   "metadata": {},
   "outputs": [
    {
     "name": "stderr",
     "output_type": "stream",
     "text": [
      "<ipython-input-8-8fbedc1413ad>:1: FutureWarning: Dropping of nuisance columns in DataFrame reductions (with 'numeric_only=None') is deprecated; in a future version this will raise TypeError.  Select only valid columns before calling the reduction.\n",
      "  data.median()              # It gives median of numerical columns\n"
     ]
    },
    {
     "data": {
      "text/plain": [
       "Weight     273.0000\n",
       "Length1     25.2000\n",
       "Length2     27.3000\n",
       "Length3     29.4000\n",
       "Height       7.7860\n",
       "Width        4.2485\n",
       "dtype: float64"
      ]
     },
     "execution_count": 8,
     "metadata": {},
     "output_type": "execute_result"
    }
   ],
   "source": [
    "data.median()              # It gives median of numerical columns"
   ]
  },
  {
   "cell_type": "code",
   "execution_count": 9,
   "id": "954c5422",
   "metadata": {},
   "outputs": [
    {
     "name": "stdout",
     "output_type": "stream",
     "text": [
      "<class 'pandas.core.frame.DataFrame'>\n",
      "RangeIndex: 159 entries, 0 to 158\n",
      "Data columns (total 7 columns):\n",
      " #   Column   Non-Null Count  Dtype  \n",
      "---  ------   --------------  -----  \n",
      " 0   Species  159 non-null    object \n",
      " 1   Weight   159 non-null    float64\n",
      " 2   Length1  159 non-null    float64\n",
      " 3   Length2  159 non-null    float64\n",
      " 4   Length3  159 non-null    float64\n",
      " 5   Height   159 non-null    float64\n",
      " 6   Width    159 non-null    float64\n",
      "dtypes: float64(6), object(1)\n",
      "memory usage: 8.8+ KB\n"
     ]
    }
   ],
   "source": [
    "data.info()                     # It gives the information of null vaues and data type ."
   ]
  },
  {
   "cell_type": "code",
   "execution_count": 10,
   "id": "64827c10",
   "metadata": {},
   "outputs": [
    {
     "data": {
      "text/plain": [
       "Index(['Species', 'Weight', 'Length1', 'Length2', 'Length3', 'Height',\n",
       "       'Width'],\n",
       "      dtype='object')"
      ]
     },
     "execution_count": 10,
     "metadata": {},
     "output_type": "execute_result"
    }
   ],
   "source": [
    "data.columns"
   ]
  },
  {
   "cell_type": "code",
   "execution_count": 11,
   "id": "b8c08673",
   "metadata": {},
   "outputs": [
    {
     "data": {
      "text/plain": [
       "0      242.0\n",
       "1      290.0\n",
       "2      340.0\n",
       "3      363.0\n",
       "4      430.0\n",
       "       ...  \n",
       "154     12.2\n",
       "155     13.4\n",
       "156     12.2\n",
       "157     19.7\n",
       "158     19.9\n",
       "Name: Weight, Length: 159, dtype: float64"
      ]
     },
     "execution_count": 11,
     "metadata": {},
     "output_type": "execute_result"
    }
   ],
   "source": [
    "data[\"Weight\"]             # Extract the Columns from the data."
   ]
  },
  {
   "cell_type": "code",
   "execution_count": 12,
   "id": "2eae5188",
   "metadata": {},
   "outputs": [
    {
     "data": {
      "text/plain": [
       "159"
      ]
     },
     "execution_count": 12,
     "metadata": {},
     "output_type": "execute_result"
    }
   ],
   "source": [
    "data[\"Width\"].count()  "
   ]
  },
  {
   "cell_type": "code",
   "execution_count": 13,
   "id": "1d730d82",
   "metadata": {},
   "outputs": [
    {
     "data": {
      "text/plain": [
       "0      Bream\n",
       "1      Bream\n",
       "2      Bream\n",
       "3      Bream\n",
       "4      Bream\n",
       "       ...  \n",
       "154    Smelt\n",
       "155    Smelt\n",
       "156    Smelt\n",
       "157    Smelt\n",
       "158    Smelt\n",
       "Name: Species, Length: 159, dtype: object"
      ]
     },
     "execution_count": 13,
     "metadata": {},
     "output_type": "execute_result"
    }
   ],
   "source": [
    "data[\"Species\"]"
   ]
  },
  {
   "cell_type": "code",
   "execution_count": 14,
   "id": "1de5776c",
   "metadata": {},
   "outputs": [
    {
     "data": {
      "text/plain": [
       "159"
      ]
     },
     "execution_count": 14,
     "metadata": {},
     "output_type": "execute_result"
    }
   ],
   "source": [
    "data[\"Weight\"].count()       # number of Weight rows ."
   ]
  },
  {
   "cell_type": "code",
   "execution_count": 15,
   "id": "9408092f",
   "metadata": {},
   "outputs": [
    {
     "data": {
      "text/plain": [
       "4173.3"
      ]
     },
     "execution_count": 15,
     "metadata": {},
     "output_type": "execute_result"
    }
   ],
   "source": [
    "data[\"Length1\"].sum()        # Sum of length1 columns."
   ]
  },
  {
   "cell_type": "code",
   "execution_count": 16,
   "id": "3a74a904",
   "metadata": {},
   "outputs": [
    {
     "data": {
      "text/plain": [
       "51.5"
      ]
     },
     "execution_count": 16,
     "metadata": {},
     "output_type": "execute_result"
    }
   ],
   "source": [
    "Range=max(data[\"Length1\"])-min(data[\"Length1\"])\n",
    "Range"
   ]
  },
  {
   "cell_type": "code",
   "execution_count": 17,
   "id": "1b2927bb",
   "metadata": {},
   "outputs": [],
   "source": [
    "# Skewness and Kurtosis."
   ]
  },
  {
   "cell_type": "code",
   "execution_count": 18,
   "id": "6602c249",
   "metadata": {},
   "outputs": [
    {
     "data": {
      "text/plain": [
       "0.5884823308370954"
      ]
     },
     "execution_count": 18,
     "metadata": {},
     "output_type": "execute_result"
    }
   ],
   "source": [
    "data[\"Length1\"].skew()"
   ]
  },
  {
   "cell_type": "code",
   "execution_count": 19,
   "id": "ed5319da",
   "metadata": {},
   "outputs": [
    {
     "data": {
      "text/plain": [
       "0.8838414122090583"
      ]
     },
     "execution_count": 19,
     "metadata": {},
     "output_type": "execute_result"
    }
   ],
   "source": [
    "data[\"Weight\"].kurt()"
   ]
  },
  {
   "cell_type": "code",
   "execution_count": 20,
   "id": "026da391",
   "metadata": {},
   "outputs": [],
   "source": [
    "# Measures of Dispersion"
   ]
  },
  {
   "cell_type": "code",
   "execution_count": 21,
   "id": "932b090d",
   "metadata": {},
   "outputs": [
    {
     "data": {
      "text/plain": [
       "357.9783165508931"
      ]
     },
     "execution_count": 21,
     "metadata": {},
     "output_type": "execute_result"
    }
   ],
   "source": [
    "data[\"Weight\"].std()"
   ]
  },
  {
   "cell_type": "code",
   "execution_count": 22,
   "id": "1a192c15",
   "metadata": {},
   "outputs": [
    {
     "data": {
      "text/plain": [
       "128148.47512061145"
      ]
     },
     "execution_count": 22,
     "metadata": {},
     "output_type": "execute_result"
    }
   ],
   "source": [
    "data[\"Weight\"].var()"
   ]
  },
  {
   "cell_type": "code",
   "execution_count": 23,
   "id": "05eb405e",
   "metadata": {},
   "outputs": [
    {
     "data": {
      "text/html": [
       "<div>\n",
       "<style scoped>\n",
       "    .dataframe tbody tr th:only-of-type {\n",
       "        vertical-align: middle;\n",
       "    }\n",
       "\n",
       "    .dataframe tbody tr th {\n",
       "        vertical-align: top;\n",
       "    }\n",
       "\n",
       "    .dataframe thead th {\n",
       "        text-align: right;\n",
       "    }\n",
       "</style>\n",
       "<table border=\"1\" class=\"dataframe\">\n",
       "  <thead>\n",
       "    <tr style=\"text-align: right;\">\n",
       "      <th></th>\n",
       "      <th>Weight</th>\n",
       "      <th>Length1</th>\n",
       "    </tr>\n",
       "  </thead>\n",
       "  <tbody>\n",
       "    <tr>\n",
       "      <th>0</th>\n",
       "      <td>242.0</td>\n",
       "      <td>23.2</td>\n",
       "    </tr>\n",
       "    <tr>\n",
       "      <th>1</th>\n",
       "      <td>290.0</td>\n",
       "      <td>24.0</td>\n",
       "    </tr>\n",
       "    <tr>\n",
       "      <th>2</th>\n",
       "      <td>340.0</td>\n",
       "      <td>23.9</td>\n",
       "    </tr>\n",
       "    <tr>\n",
       "      <th>3</th>\n",
       "      <td>363.0</td>\n",
       "      <td>26.3</td>\n",
       "    </tr>\n",
       "    <tr>\n",
       "      <th>4</th>\n",
       "      <td>430.0</td>\n",
       "      <td>26.5</td>\n",
       "    </tr>\n",
       "    <tr>\n",
       "      <th>...</th>\n",
       "      <td>...</td>\n",
       "      <td>...</td>\n",
       "    </tr>\n",
       "    <tr>\n",
       "      <th>154</th>\n",
       "      <td>12.2</td>\n",
       "      <td>11.5</td>\n",
       "    </tr>\n",
       "    <tr>\n",
       "      <th>155</th>\n",
       "      <td>13.4</td>\n",
       "      <td>11.7</td>\n",
       "    </tr>\n",
       "    <tr>\n",
       "      <th>156</th>\n",
       "      <td>12.2</td>\n",
       "      <td>12.1</td>\n",
       "    </tr>\n",
       "    <tr>\n",
       "      <th>157</th>\n",
       "      <td>19.7</td>\n",
       "      <td>13.2</td>\n",
       "    </tr>\n",
       "    <tr>\n",
       "      <th>158</th>\n",
       "      <td>19.9</td>\n",
       "      <td>13.8</td>\n",
       "    </tr>\n",
       "  </tbody>\n",
       "</table>\n",
       "<p>159 rows × 2 columns</p>\n",
       "</div>"
      ],
      "text/plain": [
       "     Weight  Length1\n",
       "0     242.0     23.2\n",
       "1     290.0     24.0\n",
       "2     340.0     23.9\n",
       "3     363.0     26.3\n",
       "4     430.0     26.5\n",
       "..      ...      ...\n",
       "154    12.2     11.5\n",
       "155    13.4     11.7\n",
       "156    12.2     12.1\n",
       "157    19.7     13.2\n",
       "158    19.9     13.8\n",
       "\n",
       "[159 rows x 2 columns]"
      ]
     },
     "execution_count": 23,
     "metadata": {},
     "output_type": "execute_result"
    }
   ],
   "source": [
    "df=data.iloc[:,1:3]\n",
    "df"
   ]
  },
  {
   "cell_type": "code",
   "execution_count": 24,
   "id": "eee850da",
   "metadata": {},
   "outputs": [
    {
     "data": {
      "text/plain": [
       "array(['Bream', 'Roach', 'Whitefish', 'Parkki', 'Perch', 'Pike', 'Smelt'],\n",
       "      dtype=object)"
      ]
     },
     "execution_count": 24,
     "metadata": {},
     "output_type": "execute_result"
    }
   ],
   "source": [
    "data[\"Species\"].unique()"
   ]
  },
  {
   "cell_type": "code",
   "execution_count": 25,
   "id": "7d6551aa",
   "metadata": {},
   "outputs": [],
   "source": [
    "df1=data.loc[(data[\"Weight\"]>=200)&(data[\"Species\"]==\"Bream\")]"
   ]
  },
  {
   "cell_type": "code",
   "execution_count": 26,
   "id": "1b6f103e",
   "metadata": {},
   "outputs": [
    {
     "data": {
      "text/html": [
       "<div>\n",
       "<style scoped>\n",
       "    .dataframe tbody tr th:only-of-type {\n",
       "        vertical-align: middle;\n",
       "    }\n",
       "\n",
       "    .dataframe tbody tr th {\n",
       "        vertical-align: top;\n",
       "    }\n",
       "\n",
       "    .dataframe thead th {\n",
       "        text-align: right;\n",
       "    }\n",
       "</style>\n",
       "<table border=\"1\" class=\"dataframe\">\n",
       "  <thead>\n",
       "    <tr style=\"text-align: right;\">\n",
       "      <th></th>\n",
       "      <th>Species</th>\n",
       "      <th>Weight</th>\n",
       "      <th>Length1</th>\n",
       "      <th>Length2</th>\n",
       "      <th>Length3</th>\n",
       "      <th>Height</th>\n",
       "      <th>Width</th>\n",
       "    </tr>\n",
       "  </thead>\n",
       "  <tbody>\n",
       "    <tr>\n",
       "      <th>0</th>\n",
       "      <td>Bream</td>\n",
       "      <td>242.0</td>\n",
       "      <td>23.2</td>\n",
       "      <td>25.4</td>\n",
       "      <td>30.0</td>\n",
       "      <td>11.5200</td>\n",
       "      <td>4.0200</td>\n",
       "    </tr>\n",
       "    <tr>\n",
       "      <th>1</th>\n",
       "      <td>Bream</td>\n",
       "      <td>290.0</td>\n",
       "      <td>24.0</td>\n",
       "      <td>26.3</td>\n",
       "      <td>31.2</td>\n",
       "      <td>12.4800</td>\n",
       "      <td>4.3056</td>\n",
       "    </tr>\n",
       "    <tr>\n",
       "      <th>2</th>\n",
       "      <td>Bream</td>\n",
       "      <td>340.0</td>\n",
       "      <td>23.9</td>\n",
       "      <td>26.5</td>\n",
       "      <td>31.1</td>\n",
       "      <td>12.3778</td>\n",
       "      <td>4.6961</td>\n",
       "    </tr>\n",
       "    <tr>\n",
       "      <th>3</th>\n",
       "      <td>Bream</td>\n",
       "      <td>363.0</td>\n",
       "      <td>26.3</td>\n",
       "      <td>29.0</td>\n",
       "      <td>33.5</td>\n",
       "      <td>12.7300</td>\n",
       "      <td>4.4555</td>\n",
       "    </tr>\n",
       "    <tr>\n",
       "      <th>4</th>\n",
       "      <td>Bream</td>\n",
       "      <td>430.0</td>\n",
       "      <td>26.5</td>\n",
       "      <td>29.0</td>\n",
       "      <td>34.0</td>\n",
       "      <td>12.4440</td>\n",
       "      <td>5.1340</td>\n",
       "    </tr>\n",
       "  </tbody>\n",
       "</table>\n",
       "</div>"
      ],
      "text/plain": [
       "  Species  Weight  Length1  Length2  Length3   Height   Width\n",
       "0   Bream   242.0     23.2     25.4     30.0  11.5200  4.0200\n",
       "1   Bream   290.0     24.0     26.3     31.2  12.4800  4.3056\n",
       "2   Bream   340.0     23.9     26.5     31.1  12.3778  4.6961\n",
       "3   Bream   363.0     26.3     29.0     33.5  12.7300  4.4555\n",
       "4   Bream   430.0     26.5     29.0     34.0  12.4440  5.1340"
      ]
     },
     "execution_count": 26,
     "metadata": {},
     "output_type": "execute_result"
    }
   ],
   "source": [
    "df1.head()"
   ]
  },
  {
   "cell_type": "code",
   "execution_count": 27,
   "id": "d10dee73",
   "metadata": {},
   "outputs": [
    {
     "data": {
      "text/html": [
       "<div>\n",
       "<style scoped>\n",
       "    .dataframe tbody tr th:only-of-type {\n",
       "        vertical-align: middle;\n",
       "    }\n",
       "\n",
       "    .dataframe tbody tr th {\n",
       "        vertical-align: top;\n",
       "    }\n",
       "\n",
       "    .dataframe thead th {\n",
       "        text-align: right;\n",
       "    }\n",
       "</style>\n",
       "<table border=\"1\" class=\"dataframe\">\n",
       "  <thead>\n",
       "    <tr style=\"text-align: right;\">\n",
       "      <th></th>\n",
       "      <th>Species</th>\n",
       "      <th>Weight</th>\n",
       "      <th>Length1</th>\n",
       "      <th>Length2</th>\n",
       "      <th>Length3</th>\n",
       "      <th>Height</th>\n",
       "      <th>Width</th>\n",
       "    </tr>\n",
       "  </thead>\n",
       "  <tbody>\n",
       "    <tr>\n",
       "      <th>30</th>\n",
       "      <td>Bream</td>\n",
       "      <td>920.0</td>\n",
       "      <td>35.0</td>\n",
       "      <td>38.5</td>\n",
       "      <td>44.1</td>\n",
       "      <td>18.0369</td>\n",
       "      <td>6.3063</td>\n",
       "    </tr>\n",
       "    <tr>\n",
       "      <th>31</th>\n",
       "      <td>Bream</td>\n",
       "      <td>955.0</td>\n",
       "      <td>35.0</td>\n",
       "      <td>38.5</td>\n",
       "      <td>44.0</td>\n",
       "      <td>18.0840</td>\n",
       "      <td>6.2920</td>\n",
       "    </tr>\n",
       "    <tr>\n",
       "      <th>32</th>\n",
       "      <td>Bream</td>\n",
       "      <td>925.0</td>\n",
       "      <td>36.2</td>\n",
       "      <td>39.5</td>\n",
       "      <td>45.3</td>\n",
       "      <td>18.7542</td>\n",
       "      <td>6.7497</td>\n",
       "    </tr>\n",
       "    <tr>\n",
       "      <th>33</th>\n",
       "      <td>Bream</td>\n",
       "      <td>975.0</td>\n",
       "      <td>37.4</td>\n",
       "      <td>41.0</td>\n",
       "      <td>45.9</td>\n",
       "      <td>18.6354</td>\n",
       "      <td>6.7473</td>\n",
       "    </tr>\n",
       "    <tr>\n",
       "      <th>34</th>\n",
       "      <td>Bream</td>\n",
       "      <td>950.0</td>\n",
       "      <td>38.0</td>\n",
       "      <td>41.0</td>\n",
       "      <td>46.5</td>\n",
       "      <td>17.6235</td>\n",
       "      <td>6.3705</td>\n",
       "    </tr>\n",
       "  </tbody>\n",
       "</table>\n",
       "</div>"
      ],
      "text/plain": [
       "   Species  Weight  Length1  Length2  Length3   Height   Width\n",
       "30   Bream   920.0     35.0     38.5     44.1  18.0369  6.3063\n",
       "31   Bream   955.0     35.0     38.5     44.0  18.0840  6.2920\n",
       "32   Bream   925.0     36.2     39.5     45.3  18.7542  6.7497\n",
       "33   Bream   975.0     37.4     41.0     45.9  18.6354  6.7473\n",
       "34   Bream   950.0     38.0     41.0     46.5  17.6235  6.3705"
      ]
     },
     "execution_count": 27,
     "metadata": {},
     "output_type": "execute_result"
    }
   ],
   "source": [
    "df1.tail()"
   ]
  },
  {
   "cell_type": "code",
   "execution_count": 28,
   "id": "2454732e",
   "metadata": {},
   "outputs": [],
   "source": [
    "# pivote Table"
   ]
  },
  {
   "cell_type": "code",
   "execution_count": 29,
   "id": "de6f45dc",
   "metadata": {},
   "outputs": [],
   "source": [
    "s=pd.pivot_table(data,index=[\"Species\"])"
   ]
  },
  {
   "cell_type": "code",
   "execution_count": 30,
   "id": "bf8471c5",
   "metadata": {},
   "outputs": [
    {
     "data": {
      "text/html": [
       "<div>\n",
       "<style scoped>\n",
       "    .dataframe tbody tr th:only-of-type {\n",
       "        vertical-align: middle;\n",
       "    }\n",
       "\n",
       "    .dataframe tbody tr th {\n",
       "        vertical-align: top;\n",
       "    }\n",
       "\n",
       "    .dataframe thead th {\n",
       "        text-align: right;\n",
       "    }\n",
       "</style>\n",
       "<table border=\"1\" class=\"dataframe\">\n",
       "  <thead>\n",
       "    <tr style=\"text-align: right;\">\n",
       "      <th></th>\n",
       "      <th>Height</th>\n",
       "      <th>Length1</th>\n",
       "      <th>Length2</th>\n",
       "      <th>Length3</th>\n",
       "      <th>Weight</th>\n",
       "      <th>Width</th>\n",
       "    </tr>\n",
       "    <tr>\n",
       "      <th>Species</th>\n",
       "      <th></th>\n",
       "      <th></th>\n",
       "      <th></th>\n",
       "      <th></th>\n",
       "      <th></th>\n",
       "      <th></th>\n",
       "    </tr>\n",
       "  </thead>\n",
       "  <tbody>\n",
       "    <tr>\n",
       "      <th>Bream</th>\n",
       "      <td>15.183211</td>\n",
       "      <td>30.305714</td>\n",
       "      <td>33.108571</td>\n",
       "      <td>38.354286</td>\n",
       "      <td>617.828571</td>\n",
       "      <td>5.427614</td>\n",
       "    </tr>\n",
       "    <tr>\n",
       "      <th>Parkki</th>\n",
       "      <td>8.962427</td>\n",
       "      <td>18.727273</td>\n",
       "      <td>20.345455</td>\n",
       "      <td>22.790909</td>\n",
       "      <td>154.818182</td>\n",
       "      <td>3.220736</td>\n",
       "    </tr>\n",
       "    <tr>\n",
       "      <th>Perch</th>\n",
       "      <td>7.861870</td>\n",
       "      <td>25.735714</td>\n",
       "      <td>27.892857</td>\n",
       "      <td>29.571429</td>\n",
       "      <td>382.239286</td>\n",
       "      <td>4.745723</td>\n",
       "    </tr>\n",
       "    <tr>\n",
       "      <th>Pike</th>\n",
       "      <td>7.713771</td>\n",
       "      <td>42.476471</td>\n",
       "      <td>45.482353</td>\n",
       "      <td>48.717647</td>\n",
       "      <td>718.705882</td>\n",
       "      <td>5.086382</td>\n",
       "    </tr>\n",
       "    <tr>\n",
       "      <th>Roach</th>\n",
       "      <td>6.694795</td>\n",
       "      <td>20.645000</td>\n",
       "      <td>22.275000</td>\n",
       "      <td>24.970000</td>\n",
       "      <td>152.050000</td>\n",
       "      <td>3.657850</td>\n",
       "    </tr>\n",
       "    <tr>\n",
       "      <th>Smelt</th>\n",
       "      <td>2.209371</td>\n",
       "      <td>11.257143</td>\n",
       "      <td>11.921429</td>\n",
       "      <td>13.035714</td>\n",
       "      <td>11.178571</td>\n",
       "      <td>1.340093</td>\n",
       "    </tr>\n",
       "    <tr>\n",
       "      <th>Whitefish</th>\n",
       "      <td>10.027167</td>\n",
       "      <td>28.800000</td>\n",
       "      <td>31.316667</td>\n",
       "      <td>34.316667</td>\n",
       "      <td>531.000000</td>\n",
       "      <td>5.473050</td>\n",
       "    </tr>\n",
       "  </tbody>\n",
       "</table>\n",
       "</div>"
      ],
      "text/plain": [
       "              Height    Length1    Length2    Length3      Weight     Width\n",
       "Species                                                                    \n",
       "Bream      15.183211  30.305714  33.108571  38.354286  617.828571  5.427614\n",
       "Parkki      8.962427  18.727273  20.345455  22.790909  154.818182  3.220736\n",
       "Perch       7.861870  25.735714  27.892857  29.571429  382.239286  4.745723\n",
       "Pike        7.713771  42.476471  45.482353  48.717647  718.705882  5.086382\n",
       "Roach       6.694795  20.645000  22.275000  24.970000  152.050000  3.657850\n",
       "Smelt       2.209371  11.257143  11.921429  13.035714   11.178571  1.340093\n",
       "Whitefish  10.027167  28.800000  31.316667  34.316667  531.000000  5.473050"
      ]
     },
     "execution_count": 30,
     "metadata": {},
     "output_type": "execute_result"
    }
   ],
   "source": [
    "s"
   ]
  },
  {
   "cell_type": "code",
   "execution_count": 31,
   "id": "d16dd9a4",
   "metadata": {},
   "outputs": [
    {
     "data": {
      "text/plain": [
       "Height     7\n",
       "Length1    7\n",
       "Length2    7\n",
       "Length3    7\n",
       "Weight     7\n",
       "Width      7\n",
       "dtype: int64"
      ]
     },
     "execution_count": 31,
     "metadata": {},
     "output_type": "execute_result"
    }
   ],
   "source": [
    "f=pd.pivot_table(data,index=[\"Species\"]).count()\n",
    "f"
   ]
  },
  {
   "cell_type": "code",
   "execution_count": 32,
   "id": "2a70c975",
   "metadata": {},
   "outputs": [
    {
     "data": {
      "text/plain": [
       "Height       8.378945\n",
       "Length1     25.421045\n",
       "Length2     27.477476\n",
       "Length3     30.250950\n",
       "Weight     366.831499\n",
       "Width        4.135921\n",
       "dtype: float64"
      ]
     },
     "execution_count": 32,
     "metadata": {},
     "output_type": "execute_result"
    }
   ],
   "source": [
    "v=pd.pivot_table(data,index=[\"Species\"]).mean()\n",
    "v"
   ]
  },
  {
   "cell_type": "code",
   "execution_count": 55,
   "id": "d0d3346c",
   "metadata": {},
   "outputs": [
    {
     "name": "stdout",
     "output_type": "stream",
     "text": [
      "medium height\n",
      "medium height\n",
      "medium height\n",
      "medium height\n",
      "medium height\n",
      "medium height\n",
      "medium height\n",
      "medium height\n",
      "medium height\n",
      "medium height\n",
      "medium height\n",
      "medium height\n",
      "medium height\n",
      "medium height\n",
      "medium height\n",
      "medium height\n",
      "medium height\n",
      "medium height\n",
      "medium height\n",
      "medium height\n",
      "medium height\n",
      "medium height\n",
      "medium height\n",
      "medium height\n",
      "medium height\n",
      "medium height\n",
      "medium height\n",
      "medium height\n",
      "medium height\n",
      "medium height\n",
      "medium height\n",
      "medium height\n",
      "medium height\n",
      "medium height\n",
      "medium height\n",
      "medium height\n",
      "medium height\n",
      "medium height\n",
      "medium height\n",
      "medium height\n",
      "small Height\n",
      "medium height\n",
      "medium height\n",
      "medium height\n",
      "medium height\n",
      "medium height\n",
      "medium height\n",
      "medium height\n",
      "medium height\n",
      "medium height\n",
      "medium height\n",
      "medium height\n",
      "medium height\n",
      "medium height\n",
      "medium height\n",
      "medium height\n",
      "medium height\n",
      "medium height\n",
      "medium height\n",
      "medium height\n",
      "medium height\n",
      "medium height\n",
      "medium height\n",
      "medium height\n",
      "medium height\n",
      "medium height\n",
      "medium height\n",
      "medium height\n",
      "medium height\n",
      "medium height\n",
      "medium height\n",
      "medium height\n",
      "medium height\n",
      "medium height\n",
      "medium height\n",
      "medium height\n",
      "medium height\n",
      "medium height\n",
      "medium height\n",
      "medium height\n",
      "medium height\n",
      "medium height\n",
      "medium height\n",
      "medium height\n",
      "medium height\n",
      "medium height\n",
      "medium height\n",
      "medium height\n",
      "medium height\n",
      "medium height\n",
      "medium height\n",
      "medium height\n",
      "medium height\n",
      "medium height\n",
      "medium height\n",
      "medium height\n",
      "medium height\n",
      "medium height\n",
      "medium height\n",
      "medium height\n",
      "medium height\n",
      "medium height\n",
      "medium height\n",
      "medium height\n",
      "medium height\n",
      "medium height\n",
      "medium height\n",
      "medium height\n",
      "medium height\n",
      "medium height\n",
      "medium height\n",
      "medium height\n",
      "medium height\n",
      "medium height\n",
      "medium height\n",
      "medium height\n",
      "medium height\n",
      "medium height\n",
      "medium height\n",
      "medium height\n",
      "medium height\n",
      "medium height\n",
      "medium height\n",
      "medium height\n",
      "medium height\n",
      "medium height\n",
      "medium height\n",
      "medium height\n",
      "medium height\n",
      "medium height\n",
      "medium height\n",
      "medium height\n",
      "medium height\n",
      "medium height\n",
      "medium height\n",
      "medium height\n",
      "medium height\n",
      "medium height\n",
      "medium height\n",
      "medium height\n",
      "medium height\n",
      "medium height\n",
      "medium height\n",
      "medium height\n",
      "medium height\n",
      "medium height\n",
      "medium height\n",
      "medium height\n",
      "medium height\n",
      "medium height\n",
      "medium height\n",
      "medium height\n",
      "medium height\n",
      "medium height\n",
      "medium height\n",
      "medium height\n",
      "medium height\n",
      "medium height\n",
      "medium height\n"
     ]
    }
   ],
   "source": [
    "n=[]\n",
    "for x in data[\"Weight\"]:\n",
    "    if x<5:\n",
    "        print(\"small Height\")\n",
    "        n.append(x)\n",
    "    elif x>=5:\n",
    "        print(\"medium height\")\n",
    "        n.append(x)"
   ]
  },
  {
   "cell_type": "code",
   "execution_count": 56,
   "id": "c3b58384",
   "metadata": {},
   "outputs": [],
   "source": [
    "n=[]\n",
    "for x in data[\"Weight\"]:\n",
    "    if x<5:\n",
    "        n.append(x)\n",
    "    elif x>=5:\n",
    "        n.append(x)\n"
   ]
  },
  {
   "cell_type": "code",
   "execution_count": 57,
   "id": "7d57a11f",
   "metadata": {},
   "outputs": [
    {
     "data": {
      "text/plain": [
       "[242.0,\n",
       " 290.0,\n",
       " 340.0,\n",
       " 363.0,\n",
       " 430.0,\n",
       " 450.0,\n",
       " 500.0,\n",
       " 390.0,\n",
       " 450.0,\n",
       " 500.0,\n",
       " 475.0,\n",
       " 500.0,\n",
       " 500.0,\n",
       " 340.0,\n",
       " 600.0,\n",
       " 600.0,\n",
       " 700.0,\n",
       " 700.0,\n",
       " 610.0,\n",
       " 650.0,\n",
       " 575.0,\n",
       " 685.0,\n",
       " 620.0,\n",
       " 680.0,\n",
       " 700.0,\n",
       " 725.0,\n",
       " 720.0,\n",
       " 714.0,\n",
       " 850.0,\n",
       " 1000.0,\n",
       " 920.0,\n",
       " 955.0,\n",
       " 925.0,\n",
       " 975.0,\n",
       " 950.0,\n",
       " 40.0,\n",
       " 69.0,\n",
       " 78.0,\n",
       " 87.0,\n",
       " 120.0,\n",
       " 0.0,\n",
       " 110.0,\n",
       " 120.0,\n",
       " 150.0,\n",
       " 145.0,\n",
       " 160.0,\n",
       " 140.0,\n",
       " 160.0,\n",
       " 169.0,\n",
       " 161.0,\n",
       " 200.0,\n",
       " 180.0,\n",
       " 290.0,\n",
       " 272.0,\n",
       " 390.0,\n",
       " 270.0,\n",
       " 270.0,\n",
       " 306.0,\n",
       " 540.0,\n",
       " 800.0,\n",
       " 1000.0,\n",
       " 55.0,\n",
       " 60.0,\n",
       " 90.0,\n",
       " 120.0,\n",
       " 150.0,\n",
       " 140.0,\n",
       " 170.0,\n",
       " 145.0,\n",
       " 200.0,\n",
       " 273.0,\n",
       " 300.0,\n",
       " 5.9,\n",
       " 32.0,\n",
       " 40.0,\n",
       " 51.5,\n",
       " 70.0,\n",
       " 100.0,\n",
       " 78.0,\n",
       " 80.0,\n",
       " 85.0,\n",
       " 85.0,\n",
       " 110.0,\n",
       " 115.0,\n",
       " 125.0,\n",
       " 130.0,\n",
       " 120.0,\n",
       " 120.0,\n",
       " 130.0,\n",
       " 135.0,\n",
       " 110.0,\n",
       " 130.0,\n",
       " 150.0,\n",
       " 145.0,\n",
       " 150.0,\n",
       " 170.0,\n",
       " 225.0,\n",
       " 145.0,\n",
       " 188.0,\n",
       " 180.0,\n",
       " 197.0,\n",
       " 218.0,\n",
       " 300.0,\n",
       " 260.0,\n",
       " 265.0,\n",
       " 250.0,\n",
       " 250.0,\n",
       " 300.0,\n",
       " 320.0,\n",
       " 514.0,\n",
       " 556.0,\n",
       " 840.0,\n",
       " 685.0,\n",
       " 700.0,\n",
       " 700.0,\n",
       " 690.0,\n",
       " 900.0,\n",
       " 650.0,\n",
       " 820.0,\n",
       " 850.0,\n",
       " 900.0,\n",
       " 1015.0,\n",
       " 820.0,\n",
       " 1100.0,\n",
       " 1000.0,\n",
       " 1100.0,\n",
       " 1000.0,\n",
       " 1000.0,\n",
       " 200.0,\n",
       " 300.0,\n",
       " 300.0,\n",
       " 300.0,\n",
       " 430.0,\n",
       " 345.0,\n",
       " 456.0,\n",
       " 510.0,\n",
       " 540.0,\n",
       " 500.0,\n",
       " 567.0,\n",
       " 770.0,\n",
       " 950.0,\n",
       " 1250.0,\n",
       " 1600.0,\n",
       " 1550.0,\n",
       " 1650.0,\n",
       " 6.7,\n",
       " 7.5,\n",
       " 7.0,\n",
       " 9.7,\n",
       " 9.8,\n",
       " 8.7,\n",
       " 10.0,\n",
       " 9.9,\n",
       " 9.8,\n",
       " 12.2,\n",
       " 13.4,\n",
       " 12.2,\n",
       " 19.7,\n",
       " 19.9]"
      ]
     },
     "execution_count": 57,
     "metadata": {},
     "output_type": "execute_result"
    }
   ],
   "source": [
    "n"
   ]
  },
  {
   "cell_type": "code",
   "execution_count": 60,
   "id": "3c45d3ff",
   "metadata": {},
   "outputs": [],
   "source": [
    "data.insert(3,\"new3\",n)"
   ]
  },
  {
   "cell_type": "code",
   "execution_count": 61,
   "id": "95f368dc",
   "metadata": {},
   "outputs": [
    {
     "data": {
      "text/html": [
       "<div>\n",
       "<style scoped>\n",
       "    .dataframe tbody tr th:only-of-type {\n",
       "        vertical-align: middle;\n",
       "    }\n",
       "\n",
       "    .dataframe tbody tr th {\n",
       "        vertical-align: top;\n",
       "    }\n",
       "\n",
       "    .dataframe thead th {\n",
       "        text-align: right;\n",
       "    }\n",
       "</style>\n",
       "<table border=\"1\" class=\"dataframe\">\n",
       "  <thead>\n",
       "    <tr style=\"text-align: right;\">\n",
       "      <th></th>\n",
       "      <th>Species</th>\n",
       "      <th>Weight</th>\n",
       "      <th>Length1</th>\n",
       "      <th>new3</th>\n",
       "      <th>new2</th>\n",
       "      <th>new</th>\n",
       "      <th>Length2</th>\n",
       "      <th>Length3</th>\n",
       "      <th>Height</th>\n",
       "      <th>Width</th>\n",
       "    </tr>\n",
       "  </thead>\n",
       "  <tbody>\n",
       "    <tr>\n",
       "      <th>0</th>\n",
       "      <td>Bream</td>\n",
       "      <td>242.0</td>\n",
       "      <td>23.2</td>\n",
       "      <td>242.0</td>\n",
       "      <td>242.0</td>\n",
       "      <td>242.0</td>\n",
       "      <td>25.4</td>\n",
       "      <td>30.0</td>\n",
       "      <td>11.5200</td>\n",
       "      <td>4.0200</td>\n",
       "    </tr>\n",
       "    <tr>\n",
       "      <th>1</th>\n",
       "      <td>Bream</td>\n",
       "      <td>290.0</td>\n",
       "      <td>24.0</td>\n",
       "      <td>290.0</td>\n",
       "      <td>290.0</td>\n",
       "      <td>290.0</td>\n",
       "      <td>26.3</td>\n",
       "      <td>31.2</td>\n",
       "      <td>12.4800</td>\n",
       "      <td>4.3056</td>\n",
       "    </tr>\n",
       "    <tr>\n",
       "      <th>2</th>\n",
       "      <td>Bream</td>\n",
       "      <td>340.0</td>\n",
       "      <td>23.9</td>\n",
       "      <td>340.0</td>\n",
       "      <td>340.0</td>\n",
       "      <td>340.0</td>\n",
       "      <td>26.5</td>\n",
       "      <td>31.1</td>\n",
       "      <td>12.3778</td>\n",
       "      <td>4.6961</td>\n",
       "    </tr>\n",
       "    <tr>\n",
       "      <th>3</th>\n",
       "      <td>Bream</td>\n",
       "      <td>363.0</td>\n",
       "      <td>26.3</td>\n",
       "      <td>363.0</td>\n",
       "      <td>363.0</td>\n",
       "      <td>363.0</td>\n",
       "      <td>29.0</td>\n",
       "      <td>33.5</td>\n",
       "      <td>12.7300</td>\n",
       "      <td>4.4555</td>\n",
       "    </tr>\n",
       "    <tr>\n",
       "      <th>4</th>\n",
       "      <td>Bream</td>\n",
       "      <td>430.0</td>\n",
       "      <td>26.5</td>\n",
       "      <td>430.0</td>\n",
       "      <td>430.0</td>\n",
       "      <td>430.0</td>\n",
       "      <td>29.0</td>\n",
       "      <td>34.0</td>\n",
       "      <td>12.4440</td>\n",
       "      <td>5.1340</td>\n",
       "    </tr>\n",
       "    <tr>\n",
       "      <th>...</th>\n",
       "      <td>...</td>\n",
       "      <td>...</td>\n",
       "      <td>...</td>\n",
       "      <td>...</td>\n",
       "      <td>...</td>\n",
       "      <td>...</td>\n",
       "      <td>...</td>\n",
       "      <td>...</td>\n",
       "      <td>...</td>\n",
       "      <td>...</td>\n",
       "    </tr>\n",
       "    <tr>\n",
       "      <th>154</th>\n",
       "      <td>Smelt</td>\n",
       "      <td>12.2</td>\n",
       "      <td>11.5</td>\n",
       "      <td>12.2</td>\n",
       "      <td>12.2</td>\n",
       "      <td>12.2</td>\n",
       "      <td>12.2</td>\n",
       "      <td>13.4</td>\n",
       "      <td>2.0904</td>\n",
       "      <td>1.3936</td>\n",
       "    </tr>\n",
       "    <tr>\n",
       "      <th>155</th>\n",
       "      <td>Smelt</td>\n",
       "      <td>13.4</td>\n",
       "      <td>11.7</td>\n",
       "      <td>13.4</td>\n",
       "      <td>13.4</td>\n",
       "      <td>13.4</td>\n",
       "      <td>12.4</td>\n",
       "      <td>13.5</td>\n",
       "      <td>2.4300</td>\n",
       "      <td>1.2690</td>\n",
       "    </tr>\n",
       "    <tr>\n",
       "      <th>156</th>\n",
       "      <td>Smelt</td>\n",
       "      <td>12.2</td>\n",
       "      <td>12.1</td>\n",
       "      <td>12.2</td>\n",
       "      <td>12.2</td>\n",
       "      <td>12.2</td>\n",
       "      <td>13.0</td>\n",
       "      <td>13.8</td>\n",
       "      <td>2.2770</td>\n",
       "      <td>1.2558</td>\n",
       "    </tr>\n",
       "    <tr>\n",
       "      <th>157</th>\n",
       "      <td>Smelt</td>\n",
       "      <td>19.7</td>\n",
       "      <td>13.2</td>\n",
       "      <td>19.7</td>\n",
       "      <td>19.7</td>\n",
       "      <td>19.7</td>\n",
       "      <td>14.3</td>\n",
       "      <td>15.2</td>\n",
       "      <td>2.8728</td>\n",
       "      <td>2.0672</td>\n",
       "    </tr>\n",
       "    <tr>\n",
       "      <th>158</th>\n",
       "      <td>Smelt</td>\n",
       "      <td>19.9</td>\n",
       "      <td>13.8</td>\n",
       "      <td>19.9</td>\n",
       "      <td>19.9</td>\n",
       "      <td>19.9</td>\n",
       "      <td>15.0</td>\n",
       "      <td>16.2</td>\n",
       "      <td>2.9322</td>\n",
       "      <td>1.8792</td>\n",
       "    </tr>\n",
       "  </tbody>\n",
       "</table>\n",
       "<p>159 rows × 10 columns</p>\n",
       "</div>"
      ],
      "text/plain": [
       "    Species  Weight  Length1   new3   new2    new  Length2  Length3   Height  \\\n",
       "0     Bream   242.0     23.2  242.0  242.0  242.0     25.4     30.0  11.5200   \n",
       "1     Bream   290.0     24.0  290.0  290.0  290.0     26.3     31.2  12.4800   \n",
       "2     Bream   340.0     23.9  340.0  340.0  340.0     26.5     31.1  12.3778   \n",
       "3     Bream   363.0     26.3  363.0  363.0  363.0     29.0     33.5  12.7300   \n",
       "4     Bream   430.0     26.5  430.0  430.0  430.0     29.0     34.0  12.4440   \n",
       "..      ...     ...      ...    ...    ...    ...      ...      ...      ...   \n",
       "154   Smelt    12.2     11.5   12.2   12.2   12.2     12.2     13.4   2.0904   \n",
       "155   Smelt    13.4     11.7   13.4   13.4   13.4     12.4     13.5   2.4300   \n",
       "156   Smelt    12.2     12.1   12.2   12.2   12.2     13.0     13.8   2.2770   \n",
       "157   Smelt    19.7     13.2   19.7   19.7   19.7     14.3     15.2   2.8728   \n",
       "158   Smelt    19.9     13.8   19.9   19.9   19.9     15.0     16.2   2.9322   \n",
       "\n",
       "      Width  \n",
       "0    4.0200  \n",
       "1    4.3056  \n",
       "2    4.6961  \n",
       "3    4.4555  \n",
       "4    5.1340  \n",
       "..      ...  \n",
       "154  1.3936  \n",
       "155  1.2690  \n",
       "156  1.2558  \n",
       "157  2.0672  \n",
       "158  1.8792  \n",
       "\n",
       "[159 rows x 10 columns]"
      ]
     },
     "execution_count": 61,
     "metadata": {},
     "output_type": "execute_result"
    }
   ],
   "source": [
    "data"
   ]
  }
 ],
 "metadata": {
  "kernelspec": {
   "display_name": "Python 3",
   "language": "python",
   "name": "python3"
  },
  "language_info": {
   "codemirror_mode": {
    "name": "ipython",
    "version": 3
   },
   "file_extension": ".py",
   "mimetype": "text/x-python",
   "name": "python",
   "nbconvert_exporter": "python",
   "pygments_lexer": "ipython3",
   "version": "3.8.8"
  }
 },
 "nbformat": 4,
 "nbformat_minor": 5
}
